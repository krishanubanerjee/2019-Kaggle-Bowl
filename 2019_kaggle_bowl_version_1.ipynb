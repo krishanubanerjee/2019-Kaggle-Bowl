{
 "cells": [
  {
   "cell_type": "markdown",
   "metadata": {},
   "source": [
    "### 2019 Data Science Bowl\n",
    "\n",
    "#### Description and Challenge of the project\n",
    "<br> https://www.kaggle.com/c/data-science-bowl-2019/overview\n",
    "<br> In this project game analytics data for kids given by PBS KIDS. In this app kids can play\n",
    "<br> games, watch clips and perform different activities and after some game session they are assigned \n",
    "<br> test.Kids can take multiple tests or single test or many records for kids with no test.\n",
    "<br> If they cam solve test correctly in single attempt then their accuracy group is 3, if two attempt\n",
    "<br> to solve correctly then accuracy group is 2, if multiple atempts then 1 if could not solve then 0.\n",
    "<br> Dataset is hierchical. For every apps installed, one installation id is assigned. We can consider\n",
    "<br> one kid has one installation id (assuming no shared device). One kid can play multiple game sessions\n",
    "<br> and one game session might have multiple events. Some of the variables like activity types, title, world\n",
    "<br> etc. are in game session level and some event related variables are at lower level.\n",
    "<br> Target variable is accuracy group.\n",
    "<br> The challenge is in train data accuracy group is at game session level\n",
    "<br> but we have to predict in test data at installation id level, in higher level.\n",
    "<br> Moreover only 1000 test records are given but Kaggle is measuring accuracy on 8 MM records.\n",
    "\n",
    "#### Approach for this notebook\n",
    "<br> Feature engineering is done using inetrmedate panda data frame.\n",
    "<br> For training data , assessment game sessions identified and extracted some features.\n",
    "<br> Then a look up table is created to capture all activities before assessment.\n",
    "<br> Here assumption is that activities before  assessment will impact accuracy.\n",
    "<br> After that , different features created mainly number of activities and game time.\n",
    "<br> Irrelevent features are excluded before model building. \n",
    "<br> Different models and hyperparameter tuning performed.\n",
    "<br> XGBoost and Deep Learning in Keras framework presented here.\n",
    "<br> Same feature extraction strategy applied to test data primrily but did not go very well.\n",
    "<br> For test data similar approach but at installation id levels features extraction performed.\n",
    "<br> Final scores measured using Cohen-Kappa score."
   ]
  },
  {
   "cell_type": "markdown",
   "metadata": {},
   "source": [
    "##### Importing Required modules and load data"
   ]
  },
  {
   "cell_type": "code",
   "execution_count": null,
   "metadata": {},
   "outputs": [],
   "source": [
    "import numpy as np # linear algebra\n",
    "import pandas as pd # data processing, CSV file I/O (e.g. pd.read_csv)\n",
    "import matplotlib.pyplot as plt\n",
    "import xgboost as xgb\n",
    "from xgboost import XGBClassifier, XGBRegressor\n",
    "from matplotlib import pyplot\n",
    "from time import time\n",
    "from collections import Counter\n",
    "import datetime\n",
    "from sklearn.metrics import cohen_kappa_score, mean_squared_error\n",
    "from sklearn.model_selection import KFold, StratifiedKFold,train_test_split\n",
    "from sklearn.model_selection import GridSearchCV,RandomizedSearchCV\n",
    "import gc\n",
    "import json\n",
    "pd.set_option('display.max_columns', 1000)\n",
    "import warnings\n",
    "warnings.filterwarnings(\"ignore\")"
   ]
  },
  {
   "cell_type": "code",
   "execution_count": 2,
   "metadata": {},
   "outputs": [],
   "source": [
    "path_ind='local'\n",
    "\n",
    "if path_ind=='kaggle':\n",
    "    file_path=\"/kaggle/input/data-science-bowl-2019\"\n",
    "else:\n",
    "    file_path=\"/Users/krishanubanerjee/Downloads/data-science-bowl-2019\"\n",
    "    \n",
    "\n",
    "train=pd.read_csv(file_path+\"/train.csv\")\n",
    "train_labels=pd.read_csv(file_path+\"/train_labels.csv\")\n",
    "test=pd.read_csv(file_path+\"/test.csv\")\n",
    "sample_submission=pd.read_csv(file_path+\"/sample_submission.csv\")"
   ]
  },
  {
   "cell_type": "markdown",
   "metadata": {},
   "source": [
    "##### Feature Engineering for Train Test"
   ]
  },
  {
   "cell_type": "code",
   "execution_count": 3,
   "metadata": {},
   "outputs": [],
   "source": [
    "def acc_grp_calc(x):\n",
    "    \"\"\"\n",
    "    This function will assign accuracy to accuracy group\n",
    "    \"\"\"\n",
    "    if x==0:\n",
    "        return(0)\n",
    "    elif x==1:\n",
    "        return(3)\n",
    "    elif x==0.5:\n",
    "        return(2)\n",
    "    else:\n",
    "        return(1)"
   ]
  },
  {
   "cell_type": "code",
   "execution_count": 4,
   "metadata": {},
   "outputs": [],
   "source": [
    "def get_assessment_df(input_flg):\n",
    "    \"\"\"\n",
    "    This function will identify assessment for train or test and create some related features\n",
    "    from different assessments and related titles. This function will also derive fetures from \n",
    "    multiple assessment takers cumulatively\n",
    "    \"\"\"\n",
    "    assert ((input_flg == 'train') | (input_flg == 'test')),\"Input is not train or test\"\n",
    "    if input_flg=='train':\n",
    "        df_ass=train[train['type']=='Assessment']\\\n",
    "             [((train['event_code']==4100)&(train['title']!='Bird Measurer (Assessment)'))\\\n",
    "             |((train['event_code']==4110)&(train['title']=='Bird Measurer (Assessment)'))]\n",
    "    else:\n",
    "        df_ass=test[test['type']=='Assessment']\n",
    "        \n",
    "    df_ass['correct_attempt']=np.where(df_ass['event_data'].str.contains('true'),1,0)\n",
    "    df_ass['incorrect_attempt']=np.where(df_ass['event_data'].str.contains('false'),1,0)\n",
    "    df_ass=df_ass.groupby(['installation_id','game_session','title']).agg({'correct_attempt':'sum',\\\n",
    "                                                          'incorrect_attempt':'sum'}).reset_index()\n",
    "    df_ass['accuracy']=np.where(df_ass['correct_attempt']+df_ass['incorrect_attempt']==0,0,\\\n",
    "             round(df_ass['correct_attempt']/(df_ass['correct_attempt']+df_ass['incorrect_attempt']),1))\n",
    "    df_ass['accuracy_group']=df_ass['accuracy'].apply(lambda x:acc_grp_calc(x))\n",
    "    df_ass['accumulated_correct']=df_ass.groupby('installation_id').agg({'correct_attempt':np.cumsum})\n",
    "    df_ass['accumulated_incorrect']=df_ass.groupby('installation_id').agg({'incorrect_attempt':np.cumsum})\n",
    "    # correct and incorrect attempt by type of assessment\n",
    "    df_ass['Mushroom_sorter_correct']=df_ass[df_ass['title']=='Mushroom Sorter (Assessment)']\\\n",
    "                               .groupby('installation_id').agg({'correct_attempt':np.cumsum})\n",
    "    df_ass['Mushroom_sorter_incorrect']=df_ass[df_ass['title']=='Mushroom Sorter (Assessment)']\\\n",
    "                               .groupby('installation_id').agg({'incorrect_attempt':np.cumsum})\n",
    "    df_ass['Bird_Measurer_correct']=df_ass[df_ass['title']=='Bird Measurer (Assessment)']\\\n",
    "                               .groupby('installation_id').agg({'correct_attempt':np.cumsum})\n",
    "    df_ass['Bird_Measurer_incorrect']=df_ass[df_ass['title']=='Bird Measurer (Assessment)']\\\n",
    "                               .groupby('installation_id').agg({'incorrect_attempt':np.cumsum})\n",
    "    df_ass['Cauldron_Filler_correct']=df_ass[df_ass['title']=='Cauldron Filler (Assessment)']\\\n",
    "                               .groupby('installation_id').agg({'correct_attempt':np.cumsum})\n",
    "    df_ass['Cauldron_Filler_incorrect']=df_ass[df_ass['title']=='Cauldron Filler (Assessment)']\\\n",
    "                               .groupby('installation_id').agg({'incorrect_attempt':np.cumsum})\n",
    "    df_ass['Cart_Balancer_correct']=df_ass[df_ass['title']=='Cart Balancer (Assessment)']\\\n",
    "                               .groupby('installation_id').agg({'correct_attempt':np.cumsum})\n",
    "    df_ass['Cart_Balancer_incorrect']=df_ass[df_ass['title']=='Cart Balancer (Assessment)']\\\n",
    "                               .groupby('installation_id').agg({'incorrect_attempt':np.cumsum})\n",
    "    df_ass['Chest_Sorter_correct']=df_ass[df_ass['title']=='Chest Sorter (Assessment)']\\\n",
    "                               .groupby('installation_id').agg({'correct_attempt':np.cumsum})\n",
    "    df_ass['Chest_Sorter_incorrect']=df_ass[df_ass['title']=='Chest Sorter (Assessment)']\\\n",
    "                               .groupby('installation_id').agg({'incorrect_attempt':np.cumsum})\n",
    "    df_ass=df_ass.drop(['title'],axis=1)\n",
    "    #  Cumulative accuracy group\n",
    "    df_ass['accuracy_0']=np.where(df_ass['accuracy_group']==0,1,0)\n",
    "    df_ass['accuracy_0']=df_ass.groupby('installation_id').agg({'accuracy_0':np.cumsum})\n",
    "    df_ass['accuracy_1']=np.where(df_ass['accuracy_group']==1,1,0)\n",
    "    df_ass['accuracy_1']=df_ass.groupby('installation_id').agg({'accuracy_1':np.cumsum})\n",
    "    df_ass['accuracy_2']=np.where(df_ass['accuracy_group']==2,1,0)\n",
    "    df_ass['accuracy_2']=df_ass.groupby('installation_id').agg({'accuracy_2':np.cumsum})\n",
    "    df_ass['accuracy_3']=np.where(df_ass['accuracy_group']==3,1,0)\n",
    "    df_ass['accuracy_3']=df_ass.groupby('installation_id').agg({'accuracy_3':np.cumsum})\n",
    "    \n",
    "    \n",
    "    df_ass['cumcnt']=df_ass.groupby('installation_id').cumcount()\n",
    "    df_ass=df_ass.drop(['correct_attempt','incorrect_attempt','accuracy'],axis=1)\n",
    "\n",
    "    df_ass=df_ass.fillna(0)\n",
    "    if input_flg=='train':\n",
    "        df_ass=df_ass.drop(['cumcnt'],axis=1)\n",
    "    else:\n",
    "        df_ass=df_ass.drop(['cumcnt','accuracy_group'],axis=1)\n",
    "    return(df_ass)"
   ]
  },
  {
   "cell_type": "code",
   "execution_count": 5,
   "metadata": {},
   "outputs": [],
   "source": [
    "def get_assessment_test_df(input_flg):\n",
    "    \"\"\"\n",
    "    This function will get assessment for Test and extract related features\n",
    "    \"\"\"\n",
    "    assert (input_flg == 'test'),\"Input is not test\"\n",
    "    df_ass=test[test['type']=='Assessment']   \n",
    "    df_ass['correct_attempt']=np.where(df_ass['event_data'].str.contains('true'),1,0)\n",
    "    df_ass['incorrect_attempt']=np.where(df_ass['event_data'].str.contains('false'),1,0)\n",
    "    df_ass=df_ass.groupby(['installation_id','title']).agg({'correct_attempt':'sum',\\\n",
    "                                                          'incorrect_attempt':'sum'}).reset_index()\n",
    "    df_ass['accuracy']=np.where(df_ass['correct_attempt']+df_ass['incorrect_attempt']==0,0,\\\n",
    "             round(df_ass['correct_attempt']/(df_ass['correct_attempt']+df_ass['incorrect_attempt']),1))\n",
    "    df_ass['accuracy_group']=df_ass['accuracy'].apply(lambda x:acc_grp_calc(x)) \n",
    "    df_ass['accumulated_correct']=df_ass.groupby('installation_id').agg({'correct_attempt':np.cumsum})\n",
    "    df_ass['accumulated_incorrect']=df_ass.groupby('installation_id').agg({'incorrect_attempt':np.cumsum})\n",
    "    # correct and incorrect attempt by type of assessment\n",
    "    df_ass['Mushroom_sorter_correct']=df_ass[df_ass['title']=='Mushroom Sorter (Assessment)']\\\n",
    "                               .groupby('installation_id').agg({'correct_attempt':np.cumsum})\n",
    "    df_ass['Mushroom_sorter_incorrect']=df_ass[df_ass['title']=='Mushroom Sorter (Assessment)']\\\n",
    "                               .groupby('installation_id').agg({'incorrect_attempt':np.cumsum})\n",
    "    df_ass['Bird_Measurer_correct']=df_ass[df_ass['title']=='Bird Measurer (Assessment)']\\\n",
    "                               .groupby('installation_id').agg({'correct_attempt':np.cumsum})\n",
    "    df_ass['Bird_Measurer_incorrect']=df_ass[df_ass['title']=='Bird Measurer (Assessment)']\\\n",
    "                               .groupby('installation_id').agg({'incorrect_attempt':np.cumsum})\n",
    "    df_ass['Cauldron_Filler_correct']=df_ass[df_ass['title']=='Cauldron Filler (Assessment)']\\\n",
    "                               .groupby('installation_id').agg({'correct_attempt':np.cumsum})\n",
    "    df_ass['Cauldron_Filler_incorrect']=df_ass[df_ass['title']=='Cauldron Filler (Assessment)']\\\n",
    "                               .groupby('installation_id').agg({'incorrect_attempt':np.cumsum})\n",
    "    df_ass['Cart_Balancer_correct']=df_ass[df_ass['title']=='Cart Balancer (Assessment)']\\\n",
    "                               .groupby('installation_id').agg({'correct_attempt':np.cumsum})\n",
    "    df_ass['Cart_Balancer_incorrect']=df_ass[df_ass['title']=='Cart Balancer (Assessment)']\\\n",
    "                               .groupby('installation_id').agg({'incorrect_attempt':np.cumsum})\n",
    "    df_ass['Chest_Sorter_correct']=df_ass[df_ass['title']=='Chest Sorter (Assessment)']\\\n",
    "                               .groupby('installation_id').agg({'correct_attempt':np.cumsum})\n",
    "    df_ass['Chest_Sorter_incorrect']=df_ass[df_ass['title']=='Chest Sorter (Assessment)']\\\n",
    "                               .groupby('installation_id').agg({'incorrect_attempt':np.cumsum})\n",
    "    #  Cumulative accuracy group\n",
    "    df_ass['accuracy_0']=np.where(df_ass['accuracy_group']==0,1,0)\n",
    "    df_ass['accuracy_0']=df_ass.groupby('installation_id').agg({'accuracy_0':np.cumsum})\n",
    "    df_ass['accuracy_1']=np.where(df_ass['accuracy_group']==1,1,0)\n",
    "    df_ass['accuracy_1']=df_ass.groupby('installation_id').agg({'accuracy_1':np.cumsum})\n",
    "    df_ass['accuracy_2']=np.where(df_ass['accuracy_group']==2,1,0)\n",
    "    df_ass['accuracy_2']=df_ass.groupby('installation_id').agg({'accuracy_2':np.cumsum})\n",
    "    df_ass['accuracy_3']=np.where(df_ass['accuracy_group']==3,1,0)\n",
    "    df_ass['accuracy_3']=df_ass.groupby('installation_id').agg({'accuracy_3':np.cumsum})\n",
    "    \n",
    "    df_ass=df_ass.drop(['correct_attempt','incorrect_attempt','accuracy','accuracy_group','title'],axis=1)\n",
    "    df_ass=df_ass.groupby(['installation_id']).agg({k:'sum' for k in df_ass.columns if k!='installation_id' }).reset_index()\n",
    "\n",
    "    df_ass=df_ass.fillna(0)\n",
    "    return(df_ass)"
   ]
  },
  {
   "cell_type": "code",
   "execution_count": 6,
   "metadata": {},
   "outputs": [],
   "source": [
    "def get_subset_tm_event_cnt(df_input):\n",
    "    \"\"\"\n",
    "    This function will create features for maximum event and game time for all game sessions\n",
    "    \"\"\"\n",
    "    subset_tm_cnt=df_input.groupby(['installation_id','game_session'])\\\n",
    "                                    .agg({'game_time':['max'],\\\n",
    "                                          'event_count':['max']}).reset_index()\n",
    "    subset_tm_cnt.columns=['installation_id','game_session','gm_tm_max','evnt_max']\n",
    "    subset_tm_cnt=subset_tm_cnt.fillna(0)\n",
    "\n",
    "    return(subset_tm_cnt)"
   ]
  },
  {
   "cell_type": "code",
   "execution_count": 7,
   "metadata": {},
   "outputs": [],
   "source": [
    "def get_subset_tm_event_cnt_test(df_input):\n",
    "    \"\"\"\n",
    "    Extract average game time and event featires for test specific\n",
    "    \"\"\"\n",
    "    subset_tm_cnt=df_input.groupby(['installation_id','game_session'])\\\n",
    "                                    .agg({'game_time':['max'],\\\n",
    "                                          'event_count':['max']}).reset_index()\n",
    "    subset_tm_cnt.columns=['installation_id','game_session','gm_tm_max','evnt_max']\n",
    "    subset_tm_cnt=subset_tm_cnt.fillna(0)\n",
    "    subset_tm_cnt=subset_tm_cnt.groupby(['installation_id'])\\\n",
    "                            .agg({'gm_tm_max':['max','mean','std'],'evnt_max':['max','mean','std']}).reset_index()\n",
    "    return(subset_tm_cnt)"
   ]
  },
  {
   "cell_type": "code",
   "execution_count": 8,
   "metadata": {},
   "outputs": [],
   "source": [
    "def lkp_sessons_bfr_assignement(df_input,df_ass):\n",
    "    \"\"\"\n",
    "    Look up for train to identify all game sessions before assessment.\n",
    "    This will be used for other feature extraction\n",
    "    \"\"\"\n",
    "\n",
    "    df_exp=df_input[['timestamp','game_session','installation_id']]\n",
    "    df_exp=df_exp.groupby(['game_session','installation_id']).agg({'timestamp':'max'}).reset_index()\n",
    "\n",
    "    df_gm_ass=df_exp[(df_exp['installation_id'].isin(list(df_ass['installation_id'].unique())))&\\\n",
    "                    (df_exp['game_session'].isin(list(df_ass['game_session'].unique())))]\n",
    "    df_gm_ass=df_gm_ass.rename(columns={\"game_session\": \"target_game_session\", \"timestamp\": \"target_timestamp\"})\n",
    "    df_gm_ass['order']=df_gm_ass.sort_values('target_timestamp').groupby('installation_id').cumcount()\n",
    "    df_gm_ass_max=df_gm_ass.groupby(['installation_id']).agg({'target_timestamp':'max'}).reset_index()\n",
    "    \n",
    "    df_lkp=pd.merge(df_exp,df_gm_ass_max,left_on='installation_id',right_on='installation_id')\n",
    "    df_lkp=df_lkp[df_lkp['timestamp']<=df_lkp['target_timestamp']]\n",
    "    df_lkp=df_lkp.drop(['target_timestamp'],axis=1)\n",
    "    df_lkp=pd.merge(df_lkp,df_gm_ass,left_on=['installation_id','game_session'],\n",
    "                     right_on=['installation_id','target_game_session'],how='left')\\\n",
    "                        .sort_values(by=['installation_id','timestamp'])\n",
    "    df_lkp['target_game_session']=df_lkp['target_game_session'].fillna(method='bfill')\n",
    "    df_lkp['order']=df_lkp['order'].fillna(method='bfill').astype(int)\n",
    "    df_lkp=df_lkp.drop(['timestamp','target_timestamp'],axis=1)\n",
    "    return(df_lkp)"
   ]
  },
  {
   "cell_type": "code",
   "execution_count": 9,
   "metadata": {},
   "outputs": [],
   "source": [
    "def get_avg_gm_tm_event_cnt(tm_event_cnt,df_lkp):\n",
    "    \"\"\"\n",
    "    Get average event and game related features\n",
    "    \"\"\"\n",
    "    df_avg_tm_event_cnt=pd.merge(tm_event_cnt,df_lkp,on=['installation_id','game_session'])\n",
    "    df_avg_tm_event_cnt=df_avg_tm_event_cnt.drop(['game_session'],axis=1)\n",
    "    df_avg_tm_event_cnt=df_avg_tm_event_cnt.groupby(['installation_id','target_game_session'])\\\n",
    "                        .agg({'gm_tm_max':['max','mean','std'],'evnt_max':['max','mean','std']}).reset_index()\n",
    "    df_avg_tm_event_cnt=df_avg_tm_event_cnt.rename(columns={\"target_game_session\": \"game_session\"})\n",
    "    return(df_avg_tm_event_cnt)"
   ]
  },
  {
   "cell_type": "code",
   "execution_count": 10,
   "metadata": {},
   "outputs": [],
   "source": [
    "def get_event_history_data(df_input,df_lkp,val):\n",
    "    \"\"\"\n",
    "    Activity history by installation id,game session\n",
    "    \"\"\" \n",
    "    df_subset=df_input[['installation_id','game_session',val]]\n",
    "    df_subset=df_subset.groupby(['installation_id','game_session',val]).agg({val:'count'})\n",
    "    df_subset=df_subset.rename(columns={val:'total'}).reset_index()\n",
    "    df_subset[val]=df_subset[val].astype(str)\n",
    "\n",
    "    df_pivot=df_subset.pivot_table(index=['installation_id','game_session'],columns=val,values='total').reset_index()\n",
    "    df_pivot=df_pivot.fillna(0)\n",
    "    \n",
    "    train_col=[str(x) for x in list(df_pivot.columns) if x not in ['installation_id','game_session']]\n",
    "    df_pivot=pd.merge(df_pivot,df_lkp,on=['installation_id','game_session'])\n",
    "    df_pivot=df_pivot.drop(['game_session'],axis=1)\n",
    "    df_pivot=df_pivot.groupby(['installation_id','target_game_session','order'])\\\n",
    "                            .agg({i:'sum' for i in train_col }).reset_index()\n",
    "    df_pivot=df_pivot.rename(columns={\"target_game_session\": \"game_session\"})\n",
    "    for i in train_col:\n",
    "        df_pivot[str('cumcnt_')+i]=df_pivot.sort_values('order').groupby(['installation_id']).agg({i:np.cumsum})\n",
    "    df_pivot=df_pivot.drop(list(set(train_col)|{'order'}),axis=1)\n",
    "    return(df_pivot)"
   ]
  },
  {
   "cell_type": "code",
   "execution_count": 11,
   "metadata": {},
   "outputs": [],
   "source": [
    "def get_event_history_data_test(df_input,val):\n",
    "    \"\"\"\n",
    "    Activity history for test at installation id level\n",
    "    \"\"\"\n",
    "    df_subset=df_input[['installation_id',val]]\n",
    "    df_subset=df_subset.groupby(['installation_id',val]).agg({val:'count'})\n",
    "    df_subset=df_subset.rename(columns={val:'total'}).reset_index()\n",
    "    df_subset[val]=df_subset[val].astype(str)\n",
    "    df_pivot=df_subset.pivot_table(index=['installation_id'],columns=val,values='total').reset_index()\n",
    "    df_pivot=df_pivot.fillna(0)\n",
    "    df_pivot=df_pivot.rename(columns={k:str('cumcnt_')+str(k) for k in \\\n",
    "                                      list(df_pivot.columns) if k !='installation_id'})\n",
    "    return(df_pivot)"
   ]
  },
  {
   "cell_type": "code",
   "execution_count": 12,
   "metadata": {},
   "outputs": [],
   "source": [
    "def get_activity_history(df_input,df_lkp,tm_event_cnt):\n",
    "    \"\"\"\n",
    "    This function will get activity history-number of attempt and time spend for title,type and world\n",
    "    \"\"\"\n",
    "    df_subset=df_input[['installation_id','game_session','title','type','world']]\n",
    "    df_subset=df_subset.drop_duplicates()\n",
    "    df_subset=pd.merge(df_subset,df_lkp,on=['installation_id','game_session'])\n",
    "    df_subset_act=df_subset.drop(['game_session'],axis=1)\n",
    "    df_subset_act=df_subset_act.rename(columns={\"target_game_session\": \"game_session\"})\n",
    "    \n",
    "    def get_category_cnt(val):\n",
    "        \"\"\"\n",
    "        Aggregate and pivot for attempts for variables\n",
    "        \"\"\"\n",
    "        df=df_subset_act.groupby(['installation_id','game_session','order',val]).agg({val:'count'})\n",
    "        df=df.rename(columns={val:'total'}).reset_index()\n",
    "        df=df.pivot_table(index=['installation_id','game_session','order'],\\\n",
    "                          columns=val,values=['total']).fillna(0)\n",
    "        df.columns=df.columns.droplevel(0)\n",
    "        df=df.reset_index()\n",
    "        train_col=[str(x) for x in list(df.columns) if x not in ['installation_id','game_session','order']]\n",
    "        for i in train_col:\n",
    "            df[str('cumcnt_')+i]=df.sort_values('order').groupby(['installation_id']).agg({i:np.cumsum})\n",
    "            \n",
    "        df=df.drop(list(set(train_col)|{'order'}),axis=1)\n",
    "        #df=df.rename(columns={'cnt_installation_id':'installation_id','cnt_game_session':'game_session'})\n",
    "        return(df)\n",
    "    \n",
    "    df_type=get_category_cnt('type')\n",
    "    df_world=get_category_cnt('world')\n",
    "    df_activity=pd.merge(df_world,df_type,on=['installation_id','game_session'])\n",
    "    \n",
    "    \n",
    "    # activity time\n",
    "    df_subset_gm_tm=pd.merge(df_subset,tm_event_cnt,on=['installation_id','game_session'])\n",
    "    df_subset_gm_tm=df_subset_gm_tm.drop(['evnt_max','game_session'],axis=1)\n",
    "    df_subset_gm_tm=df_subset_gm_tm.rename(columns={\"target_game_session\": \"game_session\"})\n",
    "    \n",
    "    def get_category_tm(val):\n",
    "        \"\"\"\n",
    "        Aggregate and pivot game time\n",
    "        \"\"\"\n",
    "        df=df_subset_gm_tm.groupby(['installation_id','game_session','order',val]).agg({'gm_tm_max':'mean'})\n",
    "        df=df.rename(columns={val:'gm_tm_max'}).reset_index()\n",
    "        df['gm_tm_max']=round(df['gm_tm_max']/1000,0)\n",
    "        df=df.pivot_table(index=['installation_id','game_session','order'],\\\n",
    "                        columns=val,values=['gm_tm_max']).fillna(0)\n",
    "        df.columns=df.columns.droplevel(0)\n",
    "        df=df.reset_index()\n",
    "        train_col=[str(x) for x in list(df.columns) if x not in ['installation_id','game_session','order']]\n",
    "        for i in train_col:\n",
    "            df[str('cum_gm_tm_')+i]=df.sort_values('order').groupby(['installation_id']).agg({i:np.cumsum})\n",
    "\n",
    "        df=df.drop(list(set(train_col)|{'order'}),axis=1)\n",
    "        #df=df.rename(columns={'tm_installation_id':'installation_id','tm_game_session':'game_session'})\n",
    "        return(df)\n",
    "    \n",
    "    title_gm=get_category_tm('title')\n",
    "    type_gm=get_category_tm('type')\n",
    "    world_gm=get_category_tm('world')\n",
    "    \n",
    "    df_tm=pd.merge(title_gm,type_gm,on=['installation_id','game_session'])\n",
    "    df_tm=pd.merge(df_tm,world_gm,on=['installation_id','game_session'])\n",
    "    df_activity=pd.merge(df_activity,df_tm,on=['installation_id','game_session'])\n",
    "    return(df_activity)\n",
    "    "
   ]
  },
  {
   "cell_type": "code",
   "execution_count": 27,
   "metadata": {},
   "outputs": [],
   "source": [
    "def get_activity_history_test(df_input,tm_event_cnt):\n",
    "    \"\"\"\n",
    "    This function will get activity history-number of attempt and time spend for title,type and world\n",
    "    at installation id level for test\n",
    "    \"\"\"\n",
    "    df_subset=df_input[['installation_id','game_session','title','type','world']]\n",
    "    df_subset=df_subset.drop_duplicates()\n",
    "    def get_category_cnt(val):\n",
    "        \"\"\"\n",
    "        Aggregate and pivot for attemts at installation id level\n",
    "        \"\"\"\n",
    "        df=df_subset.groupby(['installation_id',val]).agg({val:'count'})\n",
    "        df=df.rename(columns={val:'total'}).reset_index()\n",
    "        df=df.pivot_table(index=['installation_id'],\\\n",
    "                              columns=val,values=['total']).fillna(0)\n",
    "        df.columns=df.columns.droplevel(0)\n",
    "        df=df.reset_index()\n",
    "        df=df.rename(columns={k:str('cumcnt_')+str(k) for k in list(df.columns) if k !='installation_id'})\n",
    "        return(df)\n",
    "    \n",
    "    df_title=get_category_cnt('title')\n",
    "    df_type=get_category_cnt('type')\n",
    "    df_world=get_category_cnt('world')\n",
    "    df_activity=pd.merge(df_title,df_type,on=['installation_id'])\n",
    "    df_activity=pd.merge(df_activity,df_type,on=['installation_id'])\n",
    "\n",
    "    # activity time\n",
    "    df_subset_gm_tm=pd.merge(df_subset,tm_event_cnt,on=['installation_id','game_session'])\n",
    "    df_subset_gm_tm=df_subset_gm_tm.drop(['evnt_max','game_session'],axis=1)\n",
    "\n",
    "    def get_category_tm(val):\n",
    "        \"\"\"\n",
    "        Aggregate and pivot game time at installation id level\n",
    "        \"\"\"\n",
    "        df=df_subset_gm_tm.groupby(['installation_id',val]).agg({'gm_tm_max':'mean'})\n",
    "        df=df.rename(columns={val:'gm_tm_max'}).reset_index()\n",
    "        df['gm_tm_max']=round(df['gm_tm_max']/1000,0)\n",
    "        df=df.pivot_table(index=['installation_id'],columns=val,values=['gm_tm_max']).fillna(0)\n",
    "        df.columns=df.columns.droplevel(0)\n",
    "        df=df.reset_index()\n",
    "        df=df.rename(columns={k:str('cum_gm_tm_')+str(k) for k in list(df.columns) if k !='installation_id'})\n",
    "        return(df)\n",
    "\n",
    "    title_gm=get_category_tm('title')\n",
    "    type_gm=get_category_tm('type')\n",
    "    world_gm=get_category_tm('world')\n",
    "\n",
    "    df_tm=pd.merge(title_gm,type_gm,on=['installation_id'])\n",
    "    df_tm=pd.merge(df_tm,world_gm,on=['installation_id'])\n",
    "    df_activity=pd.merge(df_activity,df_tm,on=['installation_id'])\n",
    "    return(df_activity)\n",
    "\n",
    "    "
   ]
  },
  {
   "cell_type": "code",
   "execution_count": 14,
   "metadata": {},
   "outputs": [],
   "source": [
    "def title_event_code_cnt(df_input,df_lkp):\n",
    "    \"\"\"\n",
    "    Extract a combined feature for title and event code and aggregated per assessment\n",
    "    \"\"\"\n",
    "    df=df_input[['installation_id','game_session','event_code','title']]\n",
    "    df['title_event_code']=df['event_code'].astype(str)+str('_')+df['title'].astype(str)\n",
    "    df=df.drop(['event_code','title'],axis=1)\n",
    "    df=pd.merge(df,df_lkp,on=['installation_id','game_session'])\n",
    "    df=df.drop(['game_session'],axis=1)\n",
    "    df=df.rename(columns={\"target_game_session\": \"game_session\"})\n",
    "    df=df.groupby(['installation_id','game_session','order','title_event_code']).agg({'title_event_code':'size'})\n",
    "    df=df.rename(columns={'title_event_code':'title_event_code_cnt'}).reset_index()\n",
    "    df=df.pivot_table(index=['installation_id','game_session','order'],\\\n",
    "                        columns='title_event_code',values=['title_event_code_cnt']).fillna(0)\n",
    "    df.columns=df.columns.droplevel(0)\n",
    "    df=df.reset_index()\n",
    "    train_col=[str(x) for x in list(df.columns) if x not in ['installation_id','game_session','order']]\n",
    "    for i in train_col:\n",
    "        df[str('cm_cnt_')+i]=df.sort_values('order').groupby(['installation_id']).agg({i:np.cumsum})\n",
    "\n",
    "    df=df.drop(list(set(train_col)|{'order'}),axis=1)\n",
    "    return(df)"
   ]
  },
  {
   "cell_type": "code",
   "execution_count": 15,
   "metadata": {},
   "outputs": [],
   "source": [
    "def title_event_code_cnt_test(df_input):\n",
    "    \"\"\"\n",
    "    Extract a combined feature for title and event code and aggregated per installation id\n",
    "    \"\"\"\n",
    "    df=df_input[['installation_id','event_code','title']]\n",
    "    df['title_event_code']=df['event_code'].astype(str)+str('_')+df['title'].astype(str)\n",
    "    df=df.drop(['event_code','title'],axis=1)\n",
    "    df=df.groupby(['installation_id','title_event_code']).agg({'title_event_code':'size'})\n",
    "    df=df.rename(columns={'title_event_code':'title_event_code_cnt'}).reset_index()\n",
    "    df=df.pivot_table(index=['installation_id'],\\\n",
    "                        columns='title_event_code',values=['title_event_code_cnt']).fillna(0)\n",
    "    df.columns=df.columns.droplevel(0)\n",
    "    df=df.reset_index()\n",
    "    df=df.rename(columns={k:str('cm_cnt_')+str(k) for k in list(df.columns) if k !='installation_id'})\n",
    "    return(df)"
   ]
  },
  {
   "cell_type": "code",
   "execution_count": 16,
   "metadata": {},
   "outputs": [],
   "source": [
    "def get_modified_title_cumcnt(df_input,df_lkp):\n",
    "    \"\"\"\n",
    "    Need to extract cumulative title count \n",
    "    \"\"\"\n",
    "    df_subset=df_input[['installation_id','game_session','title']]\n",
    "    df_subset=pd.merge(df_subset,df_lkp,on=['installation_id','game_session'])\n",
    "    df_subset_act=df_subset.drop(['game_session'],axis=1)\n",
    "    df_subset_act=df_subset_act.rename(columns={\"target_game_session\": \"game_session\"})\n",
    "    df=df_subset_act.groupby(['installation_id','game_session','order','title']).agg({'title':'count'})\n",
    "    df=df.rename(columns={'title':'total'}).reset_index()\n",
    "    df=df.pivot_table(index=['installation_id','game_session','order'],\\\n",
    "                  columns='title',values=['total']).fillna(0)\n",
    "    df.columns=df.columns.droplevel(0)\n",
    "    df=df.reset_index()\n",
    "    train_col=[str(x) for x in list(df.columns) if x not in ['installation_id','game_session','order']]\n",
    "    for i in train_col:\n",
    "        df[str('cumcnt_')+i]=df.sort_values('order').groupby(['installation_id']).agg({i:np.cumsum})\n",
    "\n",
    "    df=df.drop(list(set(train_col)|{'order'}),axis=1)\n",
    "    return(df)"
   ]
  },
  {
   "cell_type": "code",
   "execution_count": 17,
   "metadata": {},
   "outputs": [],
   "source": [
    "def get_train(df_input,input_flg):\n",
    "    \"\"\"\n",
    "    Merge then all together and get train data\n",
    "    \"\"\"\n",
    "    df_ass=get_assessment_df(input_flg)\n",
    "    df_lkp=lkp_sessons_bfr_assignement(df_input,df_ass)\n",
    "    tm_event_cnt=get_subset_tm_event_cnt(df_input)\n",
    "    avg_tm_event_cnt=get_avg_gm_tm_event_cnt(tm_event_cnt,df_lkp)\n",
    "    df_event_id=get_event_history_data(df_input,df_lkp,'event_id')\n",
    "    df_event_code=get_event_history_data(df_input,df_lkp,'event_code')\n",
    "    df_activity=get_activity_history(df_input,df_lkp,tm_event_cnt)\n",
    "    df_title_event_code=title_event_code_cnt(df_input,df_lkp)\n",
    "    df_mod_title=get_modified_title_cumcnt(df_input,df_lkp)\n",
    "    df=pd.merge(df_ass,avg_tm_event_cnt,on=['installation_id','game_session'])\n",
    "    df=pd.merge(df,df_event_code,on=['installation_id','game_session'])\n",
    "    df=pd.merge(df,df_event_id,on=['installation_id','game_session'])\n",
    "    df=pd.merge(df,df_activity,on=['installation_id','game_session'])\n",
    "    df=pd.merge(df,df_title_event_code,on=['installation_id','game_session'])\n",
    "    df=pd.merge(df,df_mod_title,on=['installation_id','game_session'])\n",
    "    return(df)"
   ]
  },
  {
   "cell_type": "code",
   "execution_count": 33,
   "metadata": {},
   "outputs": [
    {
     "name": "stdout",
     "output_type": "stream",
     "text": [
      "CPU times: user 2min 41s, sys: 1min 8s, total: 3min 50s\n",
      "Wall time: 4min 3s\n"
     ]
    }
   ],
   "source": [
    "%%time\n",
    "df_train=get_train(train,'train')"
   ]
  },
  {
   "cell_type": "code",
   "execution_count": 23,
   "metadata": {},
   "outputs": [
    {
     "data": {
      "text/plain": [
       "(17690, 952)"
      ]
     },
     "execution_count": 23,
     "metadata": {},
     "output_type": "execute_result"
    }
   ],
   "source": [
    "df_train.shape"
   ]
  },
  {
   "cell_type": "code",
   "execution_count": 28,
   "metadata": {},
   "outputs": [],
   "source": [
    "def get_test(df_input,input_flg):\n",
    "    \"\"\"\n",
    "    Merge then all together and get test data\n",
    "    \"\"\"\n",
    "    df_ass=get_assessment_test_df(input_flg)\n",
    "    tm_event_cnt=get_subset_tm_event_cnt(df_input)\n",
    "    avg_tm_event_cnt=get_subset_tm_event_cnt_test(df_input)\n",
    "    df_event_id=get_event_history_data_test(df_input,'event_id')\n",
    "    df_event_code=get_event_history_data_test(df_input,'event_code')\n",
    "    df_activity=get_activity_history_test(df_input,tm_event_cnt)\n",
    "    df_title_event_code=title_event_code_cnt_test(df_input)\n",
    "    df=pd.merge(df_ass,avg_tm_event_cnt,on=['installation_id'])\n",
    "    df=pd.merge(df,df_event_code,on=['installation_id'])\n",
    "    df=pd.merge(df,df_event_id,on=['installation_id'])\n",
    "    df=pd.merge(df,df_activity,on=['installation_id'])\n",
    "    df=pd.merge(df,df_title_event_code,on=['installation_id'])\n",
    "    return(df)"
   ]
  },
  {
   "cell_type": "code",
   "execution_count": 30,
   "metadata": {},
   "outputs": [
    {
     "name": "stdout",
     "output_type": "stream",
     "text": [
      "(1000, 918)\n",
      "CPU times: user 3.2 s, sys: 473 ms, total: 3.67 s\n",
      "Wall time: 3.69 s\n"
     ]
    }
   ],
   "source": [
    "%%time\n",
    "df_test=get_test(test,'test')\n",
    "print(df_test.shape)"
   ]
  },
  {
   "cell_type": "code",
   "execution_count": 247,
   "metadata": {},
   "outputs": [],
   "source": [
    "def remove_insignificant_features(df_train,df_test):\n",
    "    \"\"\"\n",
    "    This function will drop features not in test, Remove highly corelated features\n",
    "    and exclude if mean of a feature for train/test > 10 or < 1/10 otherwise scale\n",
    "    \"\"\"\n",
    "    ajusted_test=df_test.copy()\n",
    "    # Remove all features in train but not in test\n",
    "    train_features=list(set(list(df_train.columns))-set(['installation_id','game_session','accuracy_group']))\n",
    "    test_features=list(set(list(df_test.columns))-set(['installation_id']))\n",
    "    to_drop_other=list(set(test_features)-set(train_features))\n",
    "    test_features=list(set(test_features)-set(to_drop_other))\n",
    "    to_drop=list(set(train_features)-set(test_features))\n",
    "    train_features=list(set(train_features)-set(to_drop))\n",
    "    to_reduce=[]\n",
    "    \n",
    "    for feat_a in train_features:\n",
    "        for feat_b in train_features:\n",
    "            if feat_a != feat_b and feat_a not in to_reduce and feat_b not in to_reduce:\n",
    "                c = np.corrcoef(df_train[feat_a], df_train[feat_b])[0][1]\n",
    "                if c > 0.995:\n",
    "                    to_reduce.append(feat_b)\n",
    "    train_features=list(set(train_features)-set(to_reduce))\n",
    "    \n",
    "    to_exclude=[]\n",
    "    for feature in train_features:\n",
    "        if (df_train[feature].mean()==0)|(df_test[feature].mean()==0) :\n",
    "            to_exclude.append(feature)\n",
    "        else:\n",
    "            train_mean = df_train[feature].mean()\n",
    "            test_mean = ajusted_test[feature].mean()\n",
    "            ajust_factor = train_mean / test_mean\n",
    "            if (ajust_factor >10)|(ajust_factor <.1):\n",
    "                to_exclude.append(feature)\n",
    "            else: \n",
    "                ajusted_test[feature] *= ajust_factor\n",
    "            \n",
    "    final_features=list(set(train_features)-set(to_exclude))\n",
    "    train_features=list(set(final_features)|(set(['installation_id','game_session','accuracy_group'])))\n",
    "    test_features=list(set(final_features)|(set(['installation_id'])))\n",
    "    \n",
    "    reduce_train=df_train[train_features]\n",
    "    ajusted_test=df_test[test_features]\n",
    "    return(reduce_train,ajusted_test)"
   ]
  },
  {
   "cell_type": "code",
   "execution_count": 248,
   "metadata": {},
   "outputs": [],
   "source": [
    "reduce_train,ajusted_test=remove_insignificant_features(df_train,df_test)"
   ]
  },
  {
   "cell_type": "code",
   "execution_count": 249,
   "metadata": {},
   "outputs": [
    {
     "name": "stdout",
     "output_type": "stream",
     "text": [
      "(17690, 372)\n",
      "(1000, 370)\n"
     ]
    }
   ],
   "source": [
    "print(reduce_train.shape)\n",
    "print(ajusted_test.shape)"
   ]
  },
  {
   "cell_type": "code",
   "execution_count": 250,
   "metadata": {},
   "outputs": [],
   "source": [
    "reduce_train=reduce_train.fillna(0)\n",
    "ajusted_test=ajusted_test.fillna(0)"
   ]
  },
  {
   "cell_type": "markdown",
   "metadata": {},
   "source": [
    "#### Prepare for model "
   ]
  },
  {
   "cell_type": "code",
   "execution_count": 251,
   "metadata": {},
   "outputs": [],
   "source": [
    "reduce_train=reduce_train.set_index(['installation_id','game_session'])\n",
    "ajusted_test=ajusted_test.set_index(['installation_id'])"
   ]
  },
  {
   "cell_type": "code",
   "execution_count": 123,
   "metadata": {},
   "outputs": [],
   "source": [
    "indices=reduce_train.index.values\n",
    "test_indices=ajusted_test.index.values\n",
    "labels = np.array(reduce_train['accuracy_group'])\n",
    "features= reduce_train.drop(['accuracy_group'], axis = 1)\n",
    "features = np.array(features)"
   ]
  },
  {
   "cell_type": "code",
   "execution_count": 124,
   "metadata": {},
   "outputs": [],
   "source": [
    "from sklearn import preprocessing\n",
    "train_features, test_features, train_labels, test_labels,idx_train,idx_test = \\\n",
    "            train_test_split(features, labels,indices, test_size = 0.2, random_state = 7)"
   ]
  },
  {
   "cell_type": "markdown",
   "metadata": {},
   "source": [
    "#### XGBoost Random Grid Search with cross validation\n",
    "<br>  As XGboost is very expensive , instead of extensive grid search \n",
    "<br> we are doing random grid search here"
   ]
  },
  {
   "cell_type": "code",
   "execution_count": 132,
   "metadata": {},
   "outputs": [],
   "source": [
    "# Parameters for searching best model\n",
    "params = {\n",
    "        'min_child_weight': [3,5],\n",
    "        'subsample': [0.85],\n",
    "        'max_depth': [8,12,15]\n",
    "        }\n",
    "xgb = XGBRegressor(learning_rate=0.001, n_estimators=3000, objective='reg:squarederror',silent=True, nthread=4)"
   ]
  },
  {
   "cell_type": "code",
   "execution_count": 133,
   "metadata": {},
   "outputs": [
    {
     "name": "stdout",
     "output_type": "stream",
     "text": [
      "Fitting 5 folds for each of 3 candidates, totalling 15 fits\n"
     ]
    },
    {
     "name": "stderr",
     "output_type": "stream",
     "text": [
      "[Parallel(n_jobs=4)]: Using backend LokyBackend with 4 concurrent workers.\n",
      "[Parallel(n_jobs=4)]: Done  15 out of  15 | elapsed: 141.4min finished\n"
     ]
    },
    {
     "name": "stdout",
     "output_type": "stream",
     "text": [
      "CPU times: user 50min 17s, sys: 10.1 s, total: 50min 27s\n",
      "Wall time: 2h 34min 46s\n"
     ]
    },
    {
     "data": {
      "text/plain": [
       "RandomizedSearchCV(cv=<generator object _BaseKFold.split at 0x161e0a350>,\n",
       "                   error_score='raise-deprecating',\n",
       "                   estimator=XGBRegressor(base_score=0.5, booster='gbtree',\n",
       "                                          colsample_bylevel=1,\n",
       "                                          colsample_bynode=1,\n",
       "                                          colsample_bytree=1, gamma=0,\n",
       "                                          importance_type='gain',\n",
       "                                          learning_rate=0.001, max_delta_step=0,\n",
       "                                          max_depth=3, min_child_weight=1,\n",
       "                                          missing=None, n_estimators=3000,\n",
       "                                          n_jobs...\n",
       "                                          objective='reg:squarederror',\n",
       "                                          random_state=0, reg_alpha=0,\n",
       "                                          reg_lambda=1, scale_pos_weight=1,\n",
       "                                          seed=None, silent=True, subsample=1,\n",
       "                                          verbosity=1),\n",
       "                   iid='warn', n_iter=3, n_jobs=4,\n",
       "                   param_distributions={'max_depth': [8, 12, 15],\n",
       "                                        'min_child_weight': [3, 5],\n",
       "                                        'subsample': [0.85]},\n",
       "                   pre_dispatch='2*n_jobs', random_state=1001, refit=True,\n",
       "                   return_train_score=False, scoring='r2', verbose=3)"
      ]
     },
     "execution_count": 133,
     "metadata": {},
     "output_type": "execute_result"
    }
   ],
   "source": [
    "%%time\n",
    "folds = 5\n",
    "param_comb = 3\n",
    "\n",
    "Y = train_labels\n",
    "X = train_features\n",
    "\n",
    "skf = StratifiedKFold(n_splits=folds, shuffle = True, random_state = 1001)\n",
    "random_search = RandomizedSearchCV(xgb, param_distributions=params, \\\n",
    "                    n_iter=param_comb, scoring='r2', n_jobs=4, cv=skf.split(X,Y), verbose=3, random_state=1001 )\n",
    "random_search.fit(X, Y)"
   ]
  },
  {
   "cell_type": "code",
   "execution_count": 134,
   "metadata": {},
   "outputs": [
    {
     "name": "stdout",
     "output_type": "stream",
     "text": [
      "\n",
      " Best estimator:\n",
      "XGBRegressor(base_score=0.5, booster='gbtree', colsample_bylevel=1,\n",
      "             colsample_bynode=1, colsample_bytree=1, gamma=0,\n",
      "             importance_type='gain', learning_rate=0.001, max_delta_step=0,\n",
      "             max_depth=12, min_child_weight=5, missing=None, n_estimators=3000,\n",
      "             n_jobs=1, nthread=4, objective='reg:squarederror', random_state=0,\n",
      "             reg_alpha=0, reg_lambda=1, scale_pos_weight=1, seed=None,\n",
      "             silent=True, subsample=0.85, verbosity=1)\n",
      "\n",
      " Best normalized gini score for 5-fold search with 3 parameter combinations:\n",
      "0.7486032789123291\n",
      "\n",
      " Best hyperparameters:\n",
      "{'subsample': 0.85, 'min_child_weight': 5, 'max_depth': 12}\n"
     ]
    }
   ],
   "source": [
    "print('\\n Best estimator:')\n",
    "print(random_search.best_estimator_)\n",
    "print('\\n Best normalized gini score for %d-fold search with %d parameter combinations:' % (folds, param_comb))\n",
    "print(random_search.best_score_ * 2 - 1)\n",
    "print('\\n Best hyperparameters:')\n",
    "print(random_search.best_params_)"
   ]
  },
  {
   "cell_type": "markdown",
   "metadata": {},
   "source": [
    "#### Prediction through best model "
   ]
  },
  {
   "cell_type": "code",
   "execution_count": 125,
   "metadata": {},
   "outputs": [
    {
     "name": "stdout",
     "output_type": "stream",
     "text": [
      "CPU times: user 35min 28s, sys: 8 s, total: 35min 36s\n",
      "Wall time: 9min 33s\n"
     ]
    },
    {
     "data": {
      "text/plain": [
       "XGBRegressor(base_score=0.5, booster='gbtree', colsample_bylevel=1,\n",
       "             colsample_bynode=1, colsample_bytree=0.8, gamma=0.25,\n",
       "             importance_type='gain', learning_rate=0.01, max_delta_step=0,\n",
       "             max_depth=15, min_child_weight=3, missing=None, n_estimators=2000,\n",
       "             n_jobs=1, nthread=4, objective='reg:squarederror', random_state=0,\n",
       "             reg_alpha=0, reg_lambda=1, scale_pos_weight=1, seed=None,\n",
       "             silent=False, subsample=1, verbosity=1)"
      ]
     },
     "execution_count": 125,
     "metadata": {},
     "output_type": "execute_result"
    }
   ],
   "source": [
    "%%time\n",
    "xgb_model=XGBRegressor(base_score=0.5, booster='gbtree', colsample_bylevel=1,\n",
    "             colsample_bynode=1, colsample_bytree=0.8, gamma=0.25,\n",
    "             importance_type='gain', learning_rate=0.01, max_delta_step=0,\n",
    "             max_depth=15, min_child_weight=3, missing=None, n_estimators=2000,\n",
    "             n_jobs=1, nthread=4, objective='reg:squarederror', random_state=0,\n",
    "             reg_alpha=0, reg_lambda=1, scale_pos_weight=1, seed=None,\n",
    "             silent=False, subsample=1, verbosity=1)\n",
    "xgb_model.fit(train_features,train_labels)"
   ]
  },
  {
   "cell_type": "markdown",
   "metadata": {},
   "source": [
    "#### Converting regression to classification with similar distribution"
   ]
  },
  {
   "cell_type": "code",
   "execution_count": 126,
   "metadata": {},
   "outputs": [
    {
     "name": "stdout",
     "output_type": "stream",
     "text": [
      "{0: 0.7594748440672956, 1: 1.6066137255080482, 2: 2.167111396789551}\n",
      "0.9381205841950103\n"
     ]
    },
    {
     "data": {
      "text/plain": [
       "array([[<matplotlib.axes._subplots.AxesSubplot object at 0x12486a690>]],\n",
       "      dtype=object)"
      ]
     },
     "execution_count": 126,
     "metadata": {},
     "output_type": "execute_result"
    },
    {
     "data": {
      "image/png": "[encoded data removed]",
      "text/plain": [
       "<Figure size 432x288 with 1 Axes>"
      ]
     },
     "metadata": {
      "needs_background": "light"
     },
     "output_type": "display_data"
    }
   ],
   "source": [
    "dist = Counter(reduce_train['accuracy_group'])\n",
    "for k in dist:\n",
    "    dist[k] /= len(reduce_train)\n",
    "#reduce_train['accuracy_group'].hist()\n",
    "\n",
    "preds=list(xgb_model.predict(test_features))\n",
    "acum = 0\n",
    "bound = {}\n",
    "for i in range(3):\n",
    "    acum += dist[i]\n",
    "    bound[i] = np.percentile(preds, acum * 100)\n",
    "print(bound)\n",
    "def classify(x):\n",
    "    if x <= bound[0]:\n",
    "        return 0\n",
    "    elif x <= bound[1]:\n",
    "        return 1\n",
    "    elif x <= bound[2]:\n",
    "        return 2\n",
    "    else:\n",
    "        return 3\n",
    "    \n",
    "test_class = list(map(classify, preds))\n",
    "print(cohen_kappa_score(test_class, test_labels, weights = 'quadratic'))\n",
    "pd.DataFrame(list(test_class)).hist()"
   ]
  },
  {
   "cell_type": "code",
   "execution_count": 127,
   "metadata": {},
   "outputs": [
    {
     "data": {
      "text/html": [
       "<div>\n",
       "<style scoped>\n",
       "    .dataframe tbody tr th:only-of-type {\n",
       "        vertical-align: middle;\n",
       "    }\n",
       "\n",
       "    .dataframe tbody tr th {\n",
       "        vertical-align: top;\n",
       "    }\n",
       "\n",
       "    .dataframe thead th {\n",
       "        text-align: right;\n",
       "    }\n",
       "</style>\n",
       "<table border=\"1\" class=\"dataframe\">\n",
       "  <thead>\n",
       "    <tr style=\"text-align: right;\">\n",
       "      <th></th>\n",
       "      <th>features</th>\n",
       "      <th>importance</th>\n",
       "    </tr>\n",
       "  </thead>\n",
       "  <tbody>\n",
       "    <tr>\n",
       "      <th>261</th>\n",
       "      <td>cumcnt_abc5811c</td>\n",
       "      <td>0.104694</td>\n",
       "    </tr>\n",
       "    <tr>\n",
       "      <th>194</th>\n",
       "      <td>cm_cnt_2000_Sandcastle Builder (Activity)</td>\n",
       "      <td>0.096411</td>\n",
       "    </tr>\n",
       "    <tr>\n",
       "      <th>8</th>\n",
       "      <td>Bird_Measurer_incorrect</td>\n",
       "      <td>0.057845</td>\n",
       "    </tr>\n",
       "    <tr>\n",
       "      <th>86</th>\n",
       "      <td>cm_cnt_2010_Chest Sorter (Assessment)</td>\n",
       "      <td>0.041852</td>\n",
       "    </tr>\n",
       "    <tr>\n",
       "      <th>195</th>\n",
       "      <td>Chest_Sorter_incorrect</td>\n",
       "      <td>0.038421</td>\n",
       "    </tr>\n",
       "    <tr>\n",
       "      <th>106</th>\n",
       "      <td>accumulated_correct</td>\n",
       "      <td>0.025680</td>\n",
       "    </tr>\n",
       "    <tr>\n",
       "      <th>209</th>\n",
       "      <td>cum_gm_tm_Crystals Rule</td>\n",
       "      <td>0.022705</td>\n",
       "    </tr>\n",
       "    <tr>\n",
       "      <th>89</th>\n",
       "      <td>cm_cnt_3121_Bird Measurer (Assessment)</td>\n",
       "      <td>0.020990</td>\n",
       "    </tr>\n",
       "    <tr>\n",
       "      <th>251</th>\n",
       "      <td>cumcnt_12 Monkeys</td>\n",
       "      <td>0.019046</td>\n",
       "    </tr>\n",
       "    <tr>\n",
       "      <th>163</th>\n",
       "      <td>Cauldron_Filler_incorrect</td>\n",
       "      <td>0.018637</td>\n",
       "    </tr>\n",
       "  </tbody>\n",
       "</table>\n",
       "</div>"
      ],
      "text/plain": [
       "                                      features  importance\n",
       "261                            cumcnt_abc5811c    0.104694\n",
       "194  cm_cnt_2000_Sandcastle Builder (Activity)    0.096411\n",
       "8                      Bird_Measurer_incorrect    0.057845\n",
       "86       cm_cnt_2010_Chest Sorter (Assessment)    0.041852\n",
       "195                     Chest_Sorter_incorrect    0.038421\n",
       "106                        accumulated_correct    0.025680\n",
       "209                    cum_gm_tm_Crystals Rule    0.022705\n",
       "89      cm_cnt_3121_Bird Measurer (Assessment)    0.020990\n",
       "251                          cumcnt_12 Monkeys    0.019046\n",
       "163                  Cauldron_Filler_incorrect    0.018637"
      ]
     },
     "execution_count": 127,
     "metadata": {},
     "output_type": "execute_result"
    }
   ],
   "source": [
    "df_top_feature_importance=pd.DataFrame(zip(reduce_train.columns,xgb_model.feature_importances_),\\\n",
    "                                       columns=['features','importance'])\n",
    "df_top_feature_importance.sort_values(by='importance',ascending=False).head(10)"
   ]
  },
  {
   "cell_type": "code",
   "execution_count": 128,
   "metadata": {},
   "outputs": [
    {
     "name": "stdout",
     "output_type": "stream",
     "text": [
      "{0: 0.08486233599243898, 1: 0.08896949887275696, 2: 0.5115065276622772}\n"
     ]
    },
    {
     "data": {
      "text/plain": [
       "array([[<matplotlib.axes._subplots.AxesSubplot object at 0x13988a390>]],\n",
       "      dtype=object)"
      ]
     },
     "execution_count": 128,
     "metadata": {},
     "output_type": "execute_result"
    },
    {
     "data": {
      "image/png": "[encoded data removed]",
      "text/plain": [
       "<Figure size 432x288 with 1 Axes>"
      ]
     },
     "metadata": {
      "needs_background": "light"
     },
     "output_type": "display_data"
    }
   ],
   "source": [
    "dist = Counter(reduce_train['accuracy_group'])\n",
    "for k in dist:\n",
    "    dist[k] /= len(reduce_train)\n",
    "#reduce_train['accuracy_group'].hist()\n",
    "\n",
    "preds=list(xgb_model.predict(np.array(ajusted_test)))\n",
    "acum = 0\n",
    "bound = {}\n",
    "for i in range(3):\n",
    "    acum += dist[i]\n",
    "    bound[i] = np.percentile(preds, acum * 100)\n",
    "print(bound)\n",
    "def classify(x):\n",
    "    if x <= bound[0]:\n",
    "        return 0\n",
    "    elif x <= bound[1]:\n",
    "        return 1\n",
    "    elif x <= bound[2]:\n",
    "        return 2\n",
    "    else:\n",
    "        return 3\n",
    "    \n",
    "test_class = list(map(classify, preds))\n",
    "pd.DataFrame(list(test_class)).hist()"
   ]
  },
  {
   "cell_type": "markdown",
   "metadata": {},
   "source": [
    "##### Conclusion from XGB"
   ]
  },
  {
   "cell_type": "markdown",
   "metadata": {},
   "source": [
    "<br> Looks like XGB is overfitting becasue there is huge difference between evaluation and test\n",
    "<br> Feature engineering needs to be done different ways"
   ]
  },
  {
   "cell_type": "markdown",
   "metadata": {},
   "source": [
    "#### Keras deep learning"
   ]
  },
  {
   "cell_type": "markdown",
   "metadata": {},
   "source": [
    "<br> With same features will try Keras classification model <br>"
   ]
  },
  {
   "cell_type": "code",
   "execution_count": 142,
   "metadata": {},
   "outputs": [
    {
     "name": "stderr",
     "output_type": "stream",
     "text": [
      "Using TensorFlow backend.\n"
     ]
    }
   ],
   "source": [
    "import keras\n",
    "from keras.models import Sequential\n",
    "from keras.layers import Dense\n",
    "from sklearn.model_selection import cross_val_score\n",
    "from sklearn.model_selection import KFold\n",
    "from sklearn.preprocessing import StandardScaler\n",
    "from sklearn.pipeline import Pipeline\n",
    "from tensorflow import set_random_seed\n",
    "from keras.models import Sequential\n",
    "from keras.layers.normalization import BatchNormalization\n",
    "from keras.callbacks import EarlyStopping\n",
    "import keras.initializers"
   ]
  },
  {
   "cell_type": "code",
   "execution_count": 252,
   "metadata": {},
   "outputs": [],
   "source": [
    "indices=reduce_train.index.values\n",
    "test_indices=ajusted_test.index.values\n",
    "labels = np.array(reduce_train['accuracy_group'])\n",
    "features= reduce_train.drop(['accuracy_group'], axis = 1)\n",
    "features = np.array(features)"
   ]
  },
  {
   "cell_type": "code",
   "execution_count": 253,
   "metadata": {},
   "outputs": [],
   "source": [
    "from sklearn import preprocessing\n",
    "min_max_scaler = preprocessing.MinMaxScaler()\n",
    "features_scaled = min_max_scaler.fit_transform(features)\n",
    "test_features_scaled=min_max_scaler.fit_transform(np.array(ajusted_test))\n",
    "train_features, eval_features, train_labels, eval_labels,idx_train,idx_eval = \\\n",
    "            train_test_split(features_scaled, labels,indices, test_size = 0.2, random_state = 7)"
   ]
  },
  {
   "cell_type": "code",
   "execution_count": 288,
   "metadata": {},
   "outputs": [
    {
     "name": "stdout",
     "output_type": "stream",
     "text": [
      "Train on 14152 samples, validate on 3538 samples\n",
      "Epoch 1/200\n",
      "14152/14152 [==============================] - 10s 722us/step - loss: 1.3365 - accuracy: 0.4121 - val_loss: 1.2973 - val_accuracy: 0.4949\n",
      "Epoch 2/200\n",
      "14152/14152 [==============================] - 8s 595us/step - loss: 1.2788 - accuracy: 0.5048 - val_loss: 1.2558 - val_accuracy: 0.5133\n",
      "Epoch 3/200\n",
      "14152/14152 [==============================] - 8s 584us/step - loss: 1.2473 - accuracy: 0.5171 - val_loss: 1.2279 - val_accuracy: 0.5223\n",
      "Epoch 4/200\n",
      "14152/14152 [==============================] - 9s 626us/step - loss: 1.2240 - accuracy: 0.5251 - val_loss: 1.2014 - val_accuracy: 0.5302\n",
      "Epoch 5/200\n",
      "14152/14152 [==============================] - 9s 624us/step - loss: 1.1994 - accuracy: 0.5437 - val_loss: 1.1712 - val_accuracy: 0.5588\n",
      "Epoch 6/200\n",
      "14152/14152 [==============================] - 8s 596us/step - loss: 1.1692 - accuracy: 0.5639 - val_loss: 1.1398 - val_accuracy: 0.5817\n",
      "Epoch 7/200\n",
      "14152/14152 [==============================] - 9s 618us/step - loss: 1.1429 - accuracy: 0.5811 - val_loss: 1.1101 - val_accuracy: 0.6037\n",
      "Epoch 8/200\n",
      "14152/14152 [==============================] - 9s 633us/step - loss: 1.1113 - accuracy: 0.5889 - val_loss: 1.0777 - val_accuracy: 0.6215\n",
      "Epoch 9/200\n",
      "14152/14152 [==============================] - 9s 607us/step - loss: 1.0816 - accuracy: 0.5999 - val_loss: 1.0397 - val_accuracy: 0.6371\n",
      "Epoch 10/200\n",
      "14152/14152 [==============================] - 8s 590us/step - loss: 1.0589 - accuracy: 0.6020 - val_loss: 1.0154 - val_accuracy: 0.6351\n",
      "Epoch 11/200\n",
      "14152/14152 [==============================] - 8s 583us/step - loss: 1.0354 - accuracy: 0.6075 - val_loss: 0.9830 - val_accuracy: 0.6515\n",
      "Epoch 12/200\n",
      "14152/14152 [==============================] - 8s 591us/step - loss: 1.0124 - accuracy: 0.6152 - val_loss: 0.9638 - val_accuracy: 0.6597\n",
      "Epoch 13/200\n",
      "14152/14152 [==============================] - 10s 678us/step - loss: 0.9897 - accuracy: 0.6261 - val_loss: 0.9428 - val_accuracy: 0.6653\n",
      "Epoch 14/200\n",
      "14152/14152 [==============================] - 9s 656us/step - loss: 0.9707 - accuracy: 0.6283 - val_loss: 0.9278 - val_accuracy: 0.6603\n",
      "Epoch 15/200\n",
      "14152/14152 [==============================] - 9s 645us/step - loss: 0.9555 - accuracy: 0.6292 - val_loss: 0.9045 - val_accuracy: 0.6707\n",
      "Epoch 16/200\n",
      "14152/14152 [==============================] - 9s 660us/step - loss: 0.9402 - accuracy: 0.6331 - val_loss: 0.8953 - val_accuracy: 0.6665\n",
      "Epoch 17/200\n",
      "14152/14152 [==============================] - 9s 654us/step - loss: 0.9186 - accuracy: 0.6432 - val_loss: 0.8723 - val_accuracy: 0.6747\n",
      "Epoch 18/200\n",
      "14152/14152 [==============================] - 10s 680us/step - loss: 0.9106 - accuracy: 0.6435 - val_loss: 0.8722 - val_accuracy: 0.6735\n",
      "Epoch 19/200\n",
      "14152/14152 [==============================] - 9s 669us/step - loss: 0.8929 - accuracy: 0.6503 - val_loss: 0.8593 - val_accuracy: 0.6781\n",
      "Epoch 20/200\n",
      "14152/14152 [==============================] - 9s 670us/step - loss: 0.8851 - accuracy: 0.6514 - val_loss: 0.8482 - val_accuracy: 0.6781\n",
      "Epoch 21/200\n",
      "14152/14152 [==============================] - 10s 688us/step - loss: 0.8755 - accuracy: 0.6553 - val_loss: 0.8313 - val_accuracy: 0.6834\n",
      "Epoch 22/200\n",
      "14152/14152 [==============================] - 9s 647us/step - loss: 0.8737 - accuracy: 0.6531 - val_loss: 0.8197 - val_accuracy: 0.6880\n",
      "Epoch 23/200\n",
      "14152/14152 [==============================] - 9s 630us/step - loss: 0.8493 - accuracy: 0.6641 - val_loss: 0.8067 - val_accuracy: 0.6919\n",
      "Epoch 24/200\n",
      "14152/14152 [==============================] - 9s 642us/step - loss: 0.8509 - accuracy: 0.6591 - val_loss: 0.8068 - val_accuracy: 0.6902\n",
      "Epoch 25/200\n",
      "14152/14152 [==============================] - 10s 685us/step - loss: 0.8382 - accuracy: 0.6640 - val_loss: 0.7902 - val_accuracy: 0.6953\n",
      "Epoch 26/200\n",
      "14152/14152 [==============================] - 9s 652us/step - loss: 0.8309 - accuracy: 0.6685 - val_loss: 0.7856 - val_accuracy: 0.6928\n",
      "Epoch 27/200\n",
      "14152/14152 [==============================] - 9s 619us/step - loss: 0.8205 - accuracy: 0.6730 - val_loss: 0.7873 - val_accuracy: 0.6925\n",
      "Epoch 28/200\n",
      "14152/14152 [==============================] - 9s 622us/step - loss: 0.8220 - accuracy: 0.6716 - val_loss: 0.7673 - val_accuracy: 0.7035\n",
      "Epoch 29/200\n",
      "14152/14152 [==============================] - 9s 632us/step - loss: 0.8116 - accuracy: 0.6738 - val_loss: 0.7585 - val_accuracy: 0.7041\n",
      "Epoch 30/200\n",
      "14152/14152 [==============================] - 9s 619us/step - loss: 0.8056 - accuracy: 0.6743 - val_loss: 0.7677 - val_accuracy: 0.7018\n",
      "Epoch 31/200\n",
      "14152/14152 [==============================] - 8s 596us/step - loss: 0.7982 - accuracy: 0.6808 - val_loss: 0.7537 - val_accuracy: 0.7055\n",
      "Epoch 32/200\n",
      "14152/14152 [==============================] - 8s 582us/step - loss: 0.7943 - accuracy: 0.6841 - val_loss: 0.7545 - val_accuracy: 0.7100\n",
      "Epoch 33/200\n",
      "14152/14152 [==============================] - 9s 629us/step - loss: 0.7823 - accuracy: 0.6851 - val_loss: 0.7443 - val_accuracy: 0.7142\n",
      "Epoch 34/200\n",
      "14152/14152 [==============================] - 9s 652us/step - loss: 0.7818 - accuracy: 0.6868 - val_loss: 0.7457 - val_accuracy: 0.7168\n",
      "Epoch 35/200\n",
      "14152/14152 [==============================] - 9s 611us/step - loss: 0.7719 - accuracy: 0.6923 - val_loss: 0.7411 - val_accuracy: 0.7100\n",
      "Epoch 36/200\n",
      "14152/14152 [==============================] - 9s 632us/step - loss: 0.7631 - accuracy: 0.6939 - val_loss: 0.7365 - val_accuracy: 0.7222\n",
      "Epoch 37/200\n",
      "14152/14152 [==============================] - 8s 591us/step - loss: 0.7628 - accuracy: 0.6972 - val_loss: 0.7320 - val_accuracy: 0.7165\n",
      "Epoch 38/200\n",
      "14152/14152 [==============================] - 8s 578us/step - loss: 0.7584 - accuracy: 0.6983 - val_loss: 0.7250 - val_accuracy: 0.7233\n",
      "Epoch 39/200\n",
      "14152/14152 [==============================] - 8s 580us/step - loss: 0.7477 - accuracy: 0.7034 - val_loss: 0.7174 - val_accuracy: 0.7270\n",
      "Epoch 40/200\n",
      "14152/14152 [==============================] - 8s 581us/step - loss: 0.7382 - accuracy: 0.7122 - val_loss: 0.7106 - val_accuracy: 0.7309\n",
      "Epoch 41/200\n",
      "14152/14152 [==============================] - 8s 589us/step - loss: 0.7392 - accuracy: 0.7070 - val_loss: 0.7076 - val_accuracy: 0.7292\n",
      "Epoch 42/200\n",
      "14152/14152 [==============================] - 9s 603us/step - loss: 0.7347 - accuracy: 0.7125 - val_loss: 0.7052 - val_accuracy: 0.7292\n",
      "Epoch 43/200\n",
      "14152/14152 [==============================] - 9s 621us/step - loss: 0.7298 - accuracy: 0.7152 - val_loss: 0.6919 - val_accuracy: 0.7354\n",
      "Epoch 44/200\n",
      "14152/14152 [==============================] - 9s 657us/step - loss: 0.7216 - accuracy: 0.7171 - val_loss: 0.6963 - val_accuracy: 0.7343\n",
      "Epoch 45/200\n",
      "14152/14152 [==============================] - 9s 621us/step - loss: 0.7177 - accuracy: 0.7195 - val_loss: 0.6869 - val_accuracy: 0.7453\n",
      "Epoch 46/200\n",
      "14152/14152 [==============================] - 8s 592us/step - loss: 0.7175 - accuracy: 0.7168 - val_loss: 0.6930 - val_accuracy: 0.7448\n",
      "Epoch 47/200\n",
      "14152/14152 [==============================] - 9s 607us/step - loss: 0.7136 - accuracy: 0.7241 - val_loss: 0.6877 - val_accuracy: 0.7411\n",
      "Epoch 48/200\n",
      "14152/14152 [==============================] - 9s 614us/step - loss: 0.7076 - accuracy: 0.7246 - val_loss: 0.6787 - val_accuracy: 0.7431\n",
      "Epoch 49/200\n",
      "14152/14152 [==============================] - 9s 611us/step - loss: 0.6978 - accuracy: 0.7294 - val_loss: 0.6804 - val_accuracy: 0.7434\n",
      "Epoch 50/200\n",
      "14152/14152 [==============================] - 8s 600us/step - loss: 0.7001 - accuracy: 0.7328 - val_loss: 0.6837 - val_accuracy: 0.7417\n",
      "Epoch 51/200\n",
      "14152/14152 [==============================] - 9s 646us/step - loss: 0.6898 - accuracy: 0.7331 - val_loss: 0.6623 - val_accuracy: 0.7609\n",
      "Epoch 52/200\n",
      "14152/14152 [==============================] - 9s 604us/step - loss: 0.6870 - accuracy: 0.7350 - val_loss: 0.6688 - val_accuracy: 0.7504\n",
      "Epoch 53/200\n",
      "14152/14152 [==============================] - 9s 607us/step - loss: 0.6903 - accuracy: 0.7322 - val_loss: 0.6634 - val_accuracy: 0.7552\n",
      "Epoch 54/200\n",
      "14152/14152 [==============================] - 9s 608us/step - loss: 0.6745 - accuracy: 0.7412 - val_loss: 0.6550 - val_accuracy: 0.7609\n",
      "Epoch 55/200\n"
     ]
    },
    {
     "name": "stdout",
     "output_type": "stream",
     "text": [
      "14152/14152 [==============================] - 8s 600us/step - loss: 0.6672 - accuracy: 0.7444 - val_loss: 0.6559 - val_accuracy: 0.7561\n",
      "Epoch 56/200\n",
      "14152/14152 [==============================] - 8s 594us/step - loss: 0.6696 - accuracy: 0.7417 - val_loss: 0.6526 - val_accuracy: 0.7561\n",
      "Epoch 57/200\n",
      "14152/14152 [==============================] - 8s 597us/step - loss: 0.6710 - accuracy: 0.7427 - val_loss: 0.6464 - val_accuracy: 0.7606\n",
      "Epoch 58/200\n",
      "14152/14152 [==============================] - 9s 613us/step - loss: 0.6616 - accuracy: 0.7472 - val_loss: 0.6413 - val_accuracy: 0.7603\n",
      "Epoch 59/200\n",
      "14152/14152 [==============================] - 9s 619us/step - loss: 0.6501 - accuracy: 0.7528 - val_loss: 0.6382 - val_accuracy: 0.7668\n",
      "Epoch 60/200\n",
      "14152/14152 [==============================] - 9s 607us/step - loss: 0.6562 - accuracy: 0.7479 - val_loss: 0.6411 - val_accuracy: 0.7708\n",
      "Epoch 61/200\n",
      "14152/14152 [==============================] - 8s 597us/step - loss: 0.6600 - accuracy: 0.7457 - val_loss: 0.6334 - val_accuracy: 0.7736\n",
      "Epoch 62/200\n",
      "14152/14152 [==============================] - 8s 595us/step - loss: 0.6461 - accuracy: 0.7533 - val_loss: 0.6368 - val_accuracy: 0.7651\n",
      "Epoch 63/200\n",
      "14152/14152 [==============================] - 9s 605us/step - loss: 0.6485 - accuracy: 0.7520 - val_loss: 0.6259 - val_accuracy: 0.7744\n",
      "Epoch 64/200\n",
      "14152/14152 [==============================] - 8s 587us/step - loss: 0.6428 - accuracy: 0.7509 - val_loss: 0.6363 - val_accuracy: 0.7600\n",
      "Epoch 65/200\n",
      "14152/14152 [==============================] - 8s 591us/step - loss: 0.6408 - accuracy: 0.7544 - val_loss: 0.6276 - val_accuracy: 0.7767\n",
      "Epoch 66/200\n",
      "14152/14152 [==============================] - 9s 612us/step - loss: 0.6390 - accuracy: 0.7535 - val_loss: 0.6284 - val_accuracy: 0.7750\n",
      "Epoch 67/200\n",
      "14152/14152 [==============================] - 10s 675us/step - loss: 0.6235 - accuracy: 0.7582 - val_loss: 0.6147 - val_accuracy: 0.7708\n",
      "Epoch 68/200\n",
      "14152/14152 [==============================] - 10s 675us/step - loss: 0.6258 - accuracy: 0.7576 - val_loss: 0.6170 - val_accuracy: 0.7750\n",
      "Epoch 69/200\n",
      "14152/14152 [==============================] - 10s 678us/step - loss: 0.6236 - accuracy: 0.7622 - val_loss: 0.5987 - val_accuracy: 0.7875\n",
      "Epoch 70/200\n",
      "14152/14152 [==============================] - 9s 643us/step - loss: 0.6226 - accuracy: 0.7576 - val_loss: 0.6038 - val_accuracy: 0.7858\n",
      "Epoch 71/200\n",
      "14152/14152 [==============================] - 9s 663us/step - loss: 0.6191 - accuracy: 0.7641 - val_loss: 0.6152 - val_accuracy: 0.7767\n",
      "Epoch 72/200\n",
      "14152/14152 [==============================] - 9s 655us/step - loss: 0.6171 - accuracy: 0.7584 - val_loss: 0.6134 - val_accuracy: 0.7685\n",
      "Epoch 73/200\n",
      "14152/14152 [==============================] - 9s 658us/step - loss: 0.6093 - accuracy: 0.7638 - val_loss: 0.6071 - val_accuracy: 0.7841\n",
      "Epoch 74/200\n",
      "14152/14152 [==============================] - 9s 663us/step - loss: 0.6118 - accuracy: 0.7641 - val_loss: 0.6134 - val_accuracy: 0.7716\n",
      "Epoch 75/200\n",
      "14152/14152 [==============================] - 9s 644us/step - loss: 0.6036 - accuracy: 0.7629 - val_loss: 0.5987 - val_accuracy: 0.7804\n",
      "Epoch 76/200\n",
      "14152/14152 [==============================] - 9s 631us/step - loss: 0.6075 - accuracy: 0.7709 - val_loss: 0.5954 - val_accuracy: 0.7920\n",
      "Epoch 77/200\n",
      "14152/14152 [==============================] - 9s 644us/step - loss: 0.6012 - accuracy: 0.7678 - val_loss: 0.5982 - val_accuracy: 0.7821\n",
      "Epoch 78/200\n",
      "14152/14152 [==============================] - 9s 631us/step - loss: 0.5990 - accuracy: 0.7658 - val_loss: 0.5889 - val_accuracy: 0.7809\n",
      "Epoch 79/200\n",
      "14152/14152 [==============================] - 9s 636us/step - loss: 0.5980 - accuracy: 0.7697 - val_loss: 0.6074 - val_accuracy: 0.7770\n",
      "Epoch 80/200\n",
      "14152/14152 [==============================] - 9s 632us/step - loss: 0.5988 - accuracy: 0.7675 - val_loss: 0.6103 - val_accuracy: 0.7773\n",
      "Epoch 81/200\n",
      "14152/14152 [==============================] - 9s 630us/step - loss: 0.6049 - accuracy: 0.7653 - val_loss: 0.6021 - val_accuracy: 0.7776\n",
      "Epoch 82/200\n",
      "14152/14152 [==============================] - 9s 634us/step - loss: 0.5909 - accuracy: 0.7745 - val_loss: 0.5954 - val_accuracy: 0.7886\n",
      "Epoch 83/200\n",
      "14152/14152 [==============================] - 9s 630us/step - loss: 0.5924 - accuracy: 0.7717 - val_loss: 0.5995 - val_accuracy: 0.7832\n",
      "Epoch 84/200\n",
      "14152/14152 [==============================] - 9s 629us/step - loss: 0.5940 - accuracy: 0.7723 - val_loss: 0.5825 - val_accuracy: 0.7945\n",
      "Epoch 85/200\n",
      "14152/14152 [==============================] - 9s 635us/step - loss: 0.5902 - accuracy: 0.7712 - val_loss: 0.5849 - val_accuracy: 0.7875\n",
      "Epoch 86/200\n",
      "14152/14152 [==============================] - 9s 630us/step - loss: 0.5870 - accuracy: 0.7707 - val_loss: 0.6056 - val_accuracy: 0.7818\n",
      "Epoch 87/200\n",
      "14152/14152 [==============================] - 9s 649us/step - loss: 0.5815 - accuracy: 0.7803 - val_loss: 0.6025 - val_accuracy: 0.7855\n",
      "Epoch 88/200\n",
      "14152/14152 [==============================] - 9s 632us/step - loss: 0.5894 - accuracy: 0.7689 - val_loss: 0.5938 - val_accuracy: 0.7841\n",
      "Epoch 89/200\n",
      "14152/14152 [==============================] - 9s 630us/step - loss: 0.5726 - accuracy: 0.7742 - val_loss: 0.5901 - val_accuracy: 0.7891\n",
      "Epoch 90/200\n",
      "14152/14152 [==============================] - 9s 633us/step - loss: 0.5710 - accuracy: 0.7798 - val_loss: 0.5767 - val_accuracy: 0.7971\n",
      "Epoch 91/200\n",
      "14152/14152 [==============================] - 9s 631us/step - loss: 0.5697 - accuracy: 0.7778 - val_loss: 0.5915 - val_accuracy: 0.7858\n",
      "Epoch 92/200\n",
      "14152/14152 [==============================] - 9s 633us/step - loss: 0.5772 - accuracy: 0.7776 - val_loss: 0.5902 - val_accuracy: 0.7846\n",
      "Epoch 93/200\n",
      "14152/14152 [==============================] - 9s 633us/step - loss: 0.5734 - accuracy: 0.7761 - val_loss: 0.5705 - val_accuracy: 0.8016\n",
      "Epoch 94/200\n",
      "14152/14152 [==============================] - 9s 637us/step - loss: 0.5701 - accuracy: 0.7793 - val_loss: 0.5822 - val_accuracy: 0.7962\n",
      "Epoch 95/200\n",
      "14152/14152 [==============================] - 9s 634us/step - loss: 0.5752 - accuracy: 0.7753 - val_loss: 0.5774 - val_accuracy: 0.7906\n",
      "Epoch 96/200\n",
      "14152/14152 [==============================] - 9s 658us/step - loss: 0.5625 - accuracy: 0.7838 - val_loss: 0.5876 - val_accuracy: 0.7869\n",
      "Epoch 97/200\n",
      "14152/14152 [==============================] - 9s 644us/step - loss: 0.5733 - accuracy: 0.7785 - val_loss: 0.5691 - val_accuracy: 0.8067\n",
      "Epoch 98/200\n",
      "14152/14152 [==============================] - 9s 648us/step - loss: 0.5675 - accuracy: 0.7802 - val_loss: 0.5945 - val_accuracy: 0.7807\n",
      "Epoch 99/200\n",
      "14152/14152 [==============================] - 9s 632us/step - loss: 0.5667 - accuracy: 0.7757 - val_loss: 0.5713 - val_accuracy: 0.8075\n",
      "Epoch 100/200\n",
      "14152/14152 [==============================] - 9s 643us/step - loss: 0.5652 - accuracy: 0.7829 - val_loss: 0.5768 - val_accuracy: 0.8002\n",
      "Epoch 101/200\n",
      "14152/14152 [==============================] - 9s 634us/step - loss: 0.5649 - accuracy: 0.7790 - val_loss: 0.5815 - val_accuracy: 0.7914\n",
      "Epoch 102/200\n",
      "14152/14152 [==============================] - 9s 635us/step - loss: 0.5554 - accuracy: 0.7844 - val_loss: 0.5747 - val_accuracy: 0.7996\n",
      "Epoch 103/200\n",
      "14152/14152 [==============================] - 9s 630us/step - loss: 0.5567 - accuracy: 0.7820 - val_loss: 0.5689 - val_accuracy: 0.7996\n",
      "Epoch 104/200\n",
      "14152/14152 [==============================] - 9s 633us/step - loss: 0.5741 - accuracy: 0.7747 - val_loss: 0.5927 - val_accuracy: 0.7787\n",
      "Epoch 105/200\n",
      "14152/14152 [==============================] - 9s 633us/step - loss: 0.5675 - accuracy: 0.7788 - val_loss: 0.5805 - val_accuracy: 0.7942\n",
      "Epoch 106/200\n",
      "14152/14152 [==============================] - 9s 631us/step - loss: 0.5582 - accuracy: 0.7800 - val_loss: 0.5804 - val_accuracy: 0.8027\n",
      "Epoch 107/200\n",
      "14152/14152 [==============================] - 9s 648us/step - loss: 0.5522 - accuracy: 0.7882 - val_loss: 0.5925 - val_accuracy: 0.7872\n",
      "Epoch 108/200\n",
      "14152/14152 [==============================] - 9s 634us/step - loss: 0.5463 - accuracy: 0.7903 - val_loss: 0.5795 - val_accuracy: 0.7931\n",
      "Epoch 109/200\n"
     ]
    },
    {
     "name": "stdout",
     "output_type": "stream",
     "text": [
      "14152/14152 [==============================] - 9s 652us/step - loss: 0.5552 - accuracy: 0.7812 - val_loss: 0.5866 - val_accuracy: 0.7880\n",
      "Epoch 110/200\n",
      "14152/14152 [==============================] - 9s 633us/step - loss: 0.5538 - accuracy: 0.7860 - val_loss: 0.5819 - val_accuracy: 0.7883\n",
      "Epoch 111/200\n",
      "14152/14152 [==============================] - 9s 642us/step - loss: 0.5441 - accuracy: 0.7883 - val_loss: 0.5748 - val_accuracy: 0.7891\n",
      "Epoch 112/200\n",
      "14152/14152 [==============================] - 9s 669us/step - loss: 0.5526 - accuracy: 0.7882 - val_loss: 0.5886 - val_accuracy: 0.7824\n",
      "Epoch 113/200\n",
      "14152/14152 [==============================] - 9s 659us/step - loss: 0.5495 - accuracy: 0.7861 - val_loss: 0.5683 - val_accuracy: 0.8036\n",
      "Epoch 114/200\n",
      "14152/14152 [==============================] - 9s 628us/step - loss: 0.5497 - accuracy: 0.7841 - val_loss: 0.5737 - val_accuracy: 0.8010\n",
      "Epoch 115/200\n",
      "14152/14152 [==============================] - 9s 628us/step - loss: 0.5511 - accuracy: 0.7866 - val_loss: 0.5694 - val_accuracy: 0.8084\n",
      "Epoch 116/200\n",
      "14152/14152 [==============================] - 9s 628us/step - loss: 0.5375 - accuracy: 0.7887 - val_loss: 0.5697 - val_accuracy: 0.7900\n",
      "Epoch 117/200\n",
      "14152/14152 [==============================] - 9s 628us/step - loss: 0.5531 - accuracy: 0.7843 - val_loss: 0.5652 - val_accuracy: 0.7962\n",
      "Epoch 118/200\n",
      "14152/14152 [==============================] - 9s 640us/step - loss: 0.5410 - accuracy: 0.7907 - val_loss: 0.5642 - val_accuracy: 0.8041\n",
      "Epoch 119/200\n",
      "14152/14152 [==============================] - 9s 630us/step - loss: 0.5420 - accuracy: 0.7906 - val_loss: 0.5721 - val_accuracy: 0.7948\n",
      "Epoch 120/200\n",
      "14152/14152 [==============================] - 9s 627us/step - loss: 0.5463 - accuracy: 0.7859 - val_loss: 0.5819 - val_accuracy: 0.7954\n",
      "Epoch 121/200\n",
      "14152/14152 [==============================] - 9s 633us/step - loss: 0.5435 - accuracy: 0.7885 - val_loss: 0.5760 - val_accuracy: 0.7948\n",
      "Epoch 122/200\n",
      "14152/14152 [==============================] - 9s 630us/step - loss: 0.5345 - accuracy: 0.7903 - val_loss: 0.5650 - val_accuracy: 0.8010\n",
      "Epoch 123/200\n",
      "14152/14152 [==============================] - 9s 630us/step - loss: 0.5422 - accuracy: 0.7877 - val_loss: 0.5726 - val_accuracy: 0.7940\n",
      "Epoch 124/200\n",
      "14152/14152 [==============================] - 9s 633us/step - loss: 0.5446 - accuracy: 0.7882 - val_loss: 0.5661 - val_accuracy: 0.8007\n",
      "Epoch 125/200\n",
      "14152/14152 [==============================] - 9s 632us/step - loss: 0.5420 - accuracy: 0.7889 - val_loss: 0.5729 - val_accuracy: 0.7942\n",
      "Epoch 126/200\n",
      "14152/14152 [==============================] - 9s 628us/step - loss: 0.5426 - accuracy: 0.7897 - val_loss: 0.5612 - val_accuracy: 0.8041\n",
      "Epoch 127/200\n",
      "14152/14152 [==============================] - 9s 632us/step - loss: 0.5330 - accuracy: 0.7940 - val_loss: 0.5768 - val_accuracy: 0.7875\n",
      "Epoch 128/200\n",
      "14152/14152 [==============================] - 9s 643us/step - loss: 0.5349 - accuracy: 0.7925 - val_loss: 0.5635 - val_accuracy: 0.8041\n",
      "Epoch 129/200\n",
      "14152/14152 [==============================] - 9s 630us/step - loss: 0.5342 - accuracy: 0.7906 - val_loss: 0.5645 - val_accuracy: 0.8098\n",
      "Epoch 130/200\n",
      "14152/14152 [==============================] - 10s 741us/step - loss: 0.5305 - accuracy: 0.7889 - val_loss: 0.5752 - val_accuracy: 0.7951\n",
      "Epoch 131/200\n",
      "14152/14152 [==============================] - 9s 641us/step - loss: 0.5347 - accuracy: 0.7940 - val_loss: 0.5668 - val_accuracy: 0.7869\n",
      "Epoch 132/200\n",
      "14152/14152 [==============================] - 9s 659us/step - loss: 0.5327 - accuracy: 0.7942 - val_loss: 0.5645 - val_accuracy: 0.8019\n",
      "Epoch 133/200\n",
      "14152/14152 [==============================] - 9s 637us/step - loss: 0.5328 - accuracy: 0.7930 - val_loss: 0.5737 - val_accuracy: 0.7996\n",
      "Epoch 134/200\n",
      "14152/14152 [==============================] - 9s 639us/step - loss: 0.5356 - accuracy: 0.7968 - val_loss: 0.5799 - val_accuracy: 0.7863\n",
      "Epoch 135/200\n",
      "14152/14152 [==============================] - 9s 636us/step - loss: 0.5308 - accuracy: 0.7937 - val_loss: 0.5809 - val_accuracy: 0.7875\n",
      "Epoch 136/200\n",
      "14152/14152 [==============================] - 9s 632us/step - loss: 0.5317 - accuracy: 0.7964 - val_loss: 0.5669 - val_accuracy: 0.8072\n",
      "Epoch 137/200\n",
      "14152/14152 [==============================] - 9s 634us/step - loss: 0.5309 - accuracy: 0.7935 - val_loss: 0.5604 - val_accuracy: 0.8120\n",
      "Epoch 138/200\n",
      "14152/14152 [==============================] - 9s 643us/step - loss: 0.5246 - accuracy: 0.7971 - val_loss: 0.5627 - val_accuracy: 0.8002\n",
      "Epoch 139/200\n",
      "14152/14152 [==============================] - 9s 631us/step - loss: 0.5352 - accuracy: 0.7870 - val_loss: 0.5826 - val_accuracy: 0.7894\n",
      "Epoch 140/200\n",
      "14152/14152 [==============================] - 9s 634us/step - loss: 0.5229 - accuracy: 0.7995 - val_loss: 0.5516 - val_accuracy: 0.8089\n",
      "Epoch 141/200\n",
      "14152/14152 [==============================] - 9s 630us/step - loss: 0.5217 - accuracy: 0.7952 - val_loss: 0.5653 - val_accuracy: 0.8030\n",
      "Epoch 142/200\n",
      "14152/14152 [==============================] - 9s 627us/step - loss: 0.5234 - accuracy: 0.7986 - val_loss: 0.5560 - val_accuracy: 0.8058\n",
      "Epoch 143/200\n",
      "14152/14152 [==============================] - 9s 629us/step - loss: 0.5274 - accuracy: 0.7907 - val_loss: 0.5580 - val_accuracy: 0.8101\n",
      "Epoch 144/200\n",
      "14152/14152 [==============================] - 9s 633us/step - loss: 0.5195 - accuracy: 0.7988 - val_loss: 0.5721 - val_accuracy: 0.8021\n",
      "Epoch 145/200\n",
      "14152/14152 [==============================] - 9s 631us/step - loss: 0.5244 - accuracy: 0.7970 - val_loss: 0.5660 - val_accuracy: 0.8036\n",
      "Epoch 146/200\n",
      "14152/14152 [==============================] - 9s 632us/step - loss: 0.5219 - accuracy: 0.7975 - val_loss: 0.5639 - val_accuracy: 0.8055\n",
      "Epoch 147/200\n",
      "14152/14152 [==============================] - 9s 643us/step - loss: 0.5184 - accuracy: 0.7978 - val_loss: 0.5662 - val_accuracy: 0.7990\n",
      "Epoch 148/200\n",
      "14152/14152 [==============================] - 9s 633us/step - loss: 0.5239 - accuracy: 0.7952 - val_loss: 0.5601 - val_accuracy: 0.8081\n",
      "Epoch 149/200\n",
      "14152/14152 [==============================] - 9s 631us/step - loss: 0.5243 - accuracy: 0.7941 - val_loss: 0.5653 - val_accuracy: 0.8055\n",
      "Epoch 150/200\n",
      "14152/14152 [==============================] - 9s 629us/step - loss: 0.5182 - accuracy: 0.7971 - val_loss: 0.5653 - val_accuracy: 0.8112\n",
      "Epoch 151/200\n",
      "14152/14152 [==============================] - 9s 635us/step - loss: 0.5156 - accuracy: 0.7946 - val_loss: 0.5711 - val_accuracy: 0.7914\n",
      "Epoch 152/200\n",
      "14152/14152 [==============================] - 9s 633us/step - loss: 0.5116 - accuracy: 0.7996 - val_loss: 0.5668 - val_accuracy: 0.8041\n",
      "Epoch 153/200\n",
      "14152/14152 [==============================] - 9s 633us/step - loss: 0.5156 - accuracy: 0.7995 - val_loss: 0.5707 - val_accuracy: 0.8115\n",
      "Epoch 154/200\n",
      "14152/14152 [==============================] - 9s 631us/step - loss: 0.5176 - accuracy: 0.7997 - val_loss: 0.5737 - val_accuracy: 0.8027\n",
      "Epoch 155/200\n",
      "14152/14152 [==============================] - 9s 631us/step - loss: 0.5174 - accuracy: 0.7995 - val_loss: 0.5635 - val_accuracy: 0.8095\n",
      "Epoch 156/200\n",
      "14152/14152 [==============================] - 9s 632us/step - loss: 0.5211 - accuracy: 0.7968 - val_loss: 0.5585 - val_accuracy: 0.8092\n",
      "Epoch 157/200\n",
      "14152/14152 [==============================] - 9s 644us/step - loss: 0.5145 - accuracy: 0.7995 - val_loss: 0.5639 - val_accuracy: 0.8067\n",
      "Epoch 158/200\n",
      "14152/14152 [==============================] - 9s 631us/step - loss: 0.5213 - accuracy: 0.7970 - val_loss: 0.5604 - val_accuracy: 0.8086\n",
      "Epoch 159/200\n",
      "14152/14152 [==============================] - 9s 659us/step - loss: 0.5068 - accuracy: 0.8046 - val_loss: 0.5711 - val_accuracy: 0.8007\n",
      "Epoch 160/200\n",
      "14152/14152 [==============================] - 9s 664us/step - loss: 0.5080 - accuracy: 0.8067 - val_loss: 0.5590 - val_accuracy: 0.8047\n",
      "Epoch 161/200\n",
      "14152/14152 [==============================] - 10s 690us/step - loss: 0.5167 - accuracy: 0.8020 - val_loss: 0.5643 - val_accuracy: 0.8070\n",
      "Epoch 162/200\n",
      "14152/14152 [==============================] - 9s 629us/step - loss: 0.5064 - accuracy: 0.8033 - val_loss: 0.5653 - val_accuracy: 0.8061\n",
      "Epoch 163/200\n"
     ]
    },
    {
     "name": "stdout",
     "output_type": "stream",
     "text": [
      "14152/14152 [==============================] - 9s 651us/step - loss: 0.5066 - accuracy: 0.8009 - val_loss: 0.5551 - val_accuracy: 0.8115\n",
      "Epoch 164/200\n",
      "14152/14152 [==============================] - 9s 638us/step - loss: 0.5092 - accuracy: 0.8005 - val_loss: 0.5606 - val_accuracy: 0.8030\n",
      "Epoch 165/200\n",
      "14152/14152 [==============================] - 9s 644us/step - loss: 0.5044 - accuracy: 0.8040 - val_loss: 0.5579 - val_accuracy: 0.7999\n",
      "Epoch 166/200\n",
      "14152/14152 [==============================] - 9s 629us/step - loss: 0.5152 - accuracy: 0.7943 - val_loss: 0.5684 - val_accuracy: 0.8061\n",
      "Epoch 167/200\n",
      "14152/14152 [==============================] - 9s 662us/step - loss: 0.5144 - accuracy: 0.8011 - val_loss: 0.5671 - val_accuracy: 0.7954\n",
      "Epoch 168/200\n",
      "14152/14152 [==============================] - 9s 655us/step - loss: 0.5022 - accuracy: 0.8033 - val_loss: 0.5615 - val_accuracy: 0.8089\n",
      "Epoch 169/200\n",
      "14152/14152 [==============================] - 9s 671us/step - loss: 0.5112 - accuracy: 0.8031 - val_loss: 0.5655 - val_accuracy: 0.8030\n",
      "Epoch 170/200\n",
      "14152/14152 [==============================] - 9s 627us/step - loss: 0.5057 - accuracy: 0.8060 - val_loss: 0.5704 - val_accuracy: 0.8036\n",
      "Epoch 171/200\n",
      "14152/14152 [==============================] - 9s 640us/step - loss: 0.5104 - accuracy: 0.8001 - val_loss: 0.5744 - val_accuracy: 0.7990\n",
      "Epoch 172/200\n",
      "14152/14152 [==============================] - 9s 630us/step - loss: 0.5036 - accuracy: 0.8047 - val_loss: 0.5593 - val_accuracy: 0.8027\n",
      "Epoch 173/200\n",
      "14152/14152 [==============================] - 9s 626us/step - loss: 0.5068 - accuracy: 0.8027 - val_loss: 0.5659 - val_accuracy: 0.7948\n",
      "Epoch 174/200\n",
      "14152/14152 [==============================] - 9s 624us/step - loss: 0.4995 - accuracy: 0.8041 - val_loss: 0.5639 - val_accuracy: 0.8007\n",
      "Epoch 175/200\n",
      "14152/14152 [==============================] - 9s 630us/step - loss: 0.5071 - accuracy: 0.8033 - val_loss: 0.5543 - val_accuracy: 0.8061\n",
      "Epoch 176/200\n",
      "14152/14152 [==============================] - 9s 623us/step - loss: 0.4949 - accuracy: 0.8079 - val_loss: 0.5649 - val_accuracy: 0.8002\n",
      "Epoch 177/200\n",
      "14152/14152 [==============================] - 9s 642us/step - loss: 0.4890 - accuracy: 0.8082 - val_loss: 0.5701 - val_accuracy: 0.7954\n",
      "Epoch 178/200\n",
      "14152/14152 [==============================] - 9s 621us/step - loss: 0.5016 - accuracy: 0.8033 - val_loss: 0.5517 - val_accuracy: 0.8095\n",
      "Epoch 179/200\n",
      "14152/14152 [==============================] - 9s 628us/step - loss: 0.4952 - accuracy: 0.8077 - val_loss: 0.5572 - val_accuracy: 0.8109\n",
      "Epoch 180/200\n",
      "14152/14152 [==============================] - 9s 627us/step - loss: 0.4967 - accuracy: 0.8118 - val_loss: 0.5543 - val_accuracy: 0.8016\n",
      "Epoch 00180: early stopping\n",
      "CPU times: user 36min 9s, sys: 5min 27s, total: 41min 36s\n",
      "Wall time: 27min\n"
     ]
    }
   ],
   "source": [
    "%%time\n",
    "np.random.seed(12345)\n",
    "set_random_seed(12345)\n",
    "model = Sequential()\n",
    "model.add(BatchNormalization())\n",
    "model.add(Dense(100, activation='relu',\\\n",
    "                input_dim=train_features.shape[1]))\n",
    "model.add(Dense(50, activation='relu'))\n",
    "model.add(Dense(24, activation='relu'))\n",
    "model.add(Dense(16, activation='relu'))\n",
    "#model.add(Dense(12, activation='relu'))\n",
    "model.add(Dense(8, activation='relu'))\n",
    "#model.add(Dense(6, activation='relu'))\n",
    "# add output layer\n",
    "model.add(Dense(4, activation='softmax'))\n",
    "\n",
    "opt=keras.optimizers.Adam(learning_rate=0.00001, beta_1=0.9, beta_2=0.999, amsgrad=False)\n",
    "model.compile(optimizer=opt, loss=\"categorical_crossentropy\", metrics=[\"accuracy\"])\n",
    "\n",
    "# enable early stopping based on mean_squared_error\n",
    "earlystopping=EarlyStopping(monitor=\"val_loss\", patience=40, verbose=10, mode='auto')\n",
    "\n",
    "one_hot_train_labels = keras.utils.to_categorical(train_labels, num_classes=4)\n",
    "one_hot_eval_labels = keras.utils.to_categorical(eval_labels, num_classes=4)\n",
    "# fit model\n",
    "result = model.fit(train_features, one_hot_train_labels, epochs=200, batch_size=8,\\\n",
    "                   validation_data=(eval_features, one_hot_eval_labels),callbacks=[earlystopping])\n",
    "# get predictions\n",
    "eval_pred = model.predict(eval_features)\n",
    "\n",
    "test_pred=model.predict(test_features_scaled)"
   ]
  },
  {
   "cell_type": "code",
   "execution_count": 289,
   "metadata": {},
   "outputs": [
    {
     "data": {
      "image/png": "[encoded data removed]",
      "text/plain": [
       "<Figure size 432x288 with 1 Axes>"
      ]
     },
     "metadata": {
      "needs_background": "light"
     },
     "output_type": "display_data"
    },
    {
     "data": {
      "image/png": "[encoded data removed]",
      "text/plain": [
       "<Figure size 432x288 with 1 Axes>"
      ]
     },
     "metadata": {
      "needs_background": "light"
     },
     "output_type": "display_data"
    }
   ],
   "source": [
    "#Plot loss\n",
    "plt.plot(result.history['loss'])\n",
    "plt.plot(result.history['val_loss'])\n",
    "plt.title('Loss')\n",
    "plt.ylabel('loss')\n",
    "plt.xlabel('epoch')\n",
    "plt.legend(['train', 'test'], loc='upper left')\n",
    "plt.show()\n",
    "\n",
    "#Plot accuracy\n",
    "plt.plot(result.history['accuracy'])\n",
    "plt.plot(result.history['val_accuracy'])\n",
    "plt.title('accuracy')\n",
    "plt.ylabel('accuracy')\n",
    "plt.xlabel('epoch')\n",
    "plt.legend(['train', 'test'], loc='upper left')\n",
    "plt.show()"
   ]
  },
  {
   "cell_type": "code",
   "execution_count": 290,
   "metadata": {},
   "outputs": [
    {
     "name": "stdout",
     "output_type": "stream",
     "text": [
      "0.005585154078962207\n"
     ]
    },
    {
     "data": {
      "text/plain": [
       "array([[<matplotlib.axes._subplots.AxesSubplot object at 0x254610310>]],\n",
       "      dtype=object)"
      ]
     },
     "execution_count": 290,
     "metadata": {},
     "output_type": "execute_result"
    },
    {
     "data": {
      "image/png": "[encoded data removed]",
      "text/plain": [
       "<Figure size 432x288 with 1 Axes>"
      ]
     },
     "metadata": {
      "needs_background": "light"
     },
     "output_type": "display_data"
    }
   ],
   "source": [
    "eval_pred_list=[]\n",
    "for i in range(len(eval_pred)):\n",
    "    if max(eval_pred[i].astype(int))==1:\n",
    "        eval_pred_list.append(np.asscalar(np.argwhere(eval_pred[i].astype(int)==1)))\n",
    "    else:\n",
    "        eval_pred_list.append(3)\n",
    "print(cohen_kappa_score(eval_pred_list,eval_labels))\n",
    "pd.DataFrame(eval_pred_list).hist()"
   ]
  },
  {
   "cell_type": "code",
   "execution_count": 291,
   "metadata": {},
   "outputs": [
    {
     "data": {
      "text/plain": [
       "array([[<matplotlib.axes._subplots.AxesSubplot object at 0x254608ed0>]],\n",
       "      dtype=object)"
      ]
     },
     "execution_count": 291,
     "metadata": {},
     "output_type": "execute_result"
    },
    {
     "data": {
      "image/png": "[encoded data removed]",
      "text/plain": [
       "<Figure size 432x288 with 1 Axes>"
      ]
     },
     "metadata": {
      "needs_background": "light"
     },
     "output_type": "display_data"
    }
   ],
   "source": [
    "test_pred_list=[]\n",
    "for i in range(len(test_pred)):\n",
    "    if max(test_pred[i].astype(int))==1:\n",
    "        test_pred_list.append(np.asscalar(np.argwhere(test_pred[i].astype(int)==1)))\n",
    "    else:\n",
    "        test_pred_list.append(3)\n",
    "pd.DataFrame(test_pred_list).hist()"
   ]
  },
  {
   "cell_type": "markdown",
   "metadata": {},
   "source": [
    "##### Conclusion\n",
    "<br> Tried deep learning with adding different layers and changing other hyperparameters. But\n",
    "<br> not found any good result. Specially it failed totally to capture any accuracy group other than \n",
    "<br> 3. Cohen-Kappa score is also very low. Need different feature engineering to make better prediction."
   ]
  },
  {
   "cell_type": "code",
   "execution_count": null,
   "metadata": {},
   "outputs": [],
   "source": []
  }
 ],
 "metadata": {
  "kernelspec": {
   "display_name": "Python [conda env:kaggle_bowl] *",
   "language": "python",
   "name": "conda-env-kaggle_bowl-py"
  },
  "language_info": {
   "codemirror_mode": {
    "name": "ipython",
    "version": 3
   },
   "file_extension": ".py",
   "mimetype": "text/x-python",
   "name": "python",
   "nbconvert_exporter": "python",
   "pygments_lexer": "ipython3",
   "version": "3.7.5"
  }
 },
 "nbformat": 4,
 "nbformat_minor": 2
}
